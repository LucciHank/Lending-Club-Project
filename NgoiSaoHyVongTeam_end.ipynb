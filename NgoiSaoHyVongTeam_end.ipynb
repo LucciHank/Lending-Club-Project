{
 "cells": [
  {
   "cell_type": "code",
   "execution_count": 1,
   "id": "053e0b28",
   "metadata": {},
   "outputs": [],
   "source": [
    "import pandas as pd\n",
    "import numpy as np\n",
    "import seaborn as sns\n",
    "import matplotlib.pyplot as plt\n",
    "\n",
    "from sklearn.metrics import classification_report\n",
    "from sklearn.preprocessing import StandardScaler\n",
    "from sklearn.model_selection import train_test_split\n",
    "from sklearn.model_selection import cross_val_score\n",
    "from sklearn.linear_model import LogisticRegression\n",
    "from sklearn.metrics import accuracy_score, precision_score, recall_score, confusion_matrix, f1_score, roc_auc_score"
   ]
  },
  {
   "cell_type": "code",
   "execution_count": 2,
   "id": "7c7637f2",
   "metadata": {},
   "outputs": [
    {
     "name": "stderr",
     "output_type": "stream",
     "text": [
      "/var/folders/b9/sybfjbkx1pg7r5bl3f56_tzm0000gn/T/ipykernel_28580/3961399125.py:1: DtypeWarning: Columns (0,19,49,59,118,129,130,131,134,135,136,139,145,146,147) have mixed types. Specify dtype option on import or set low_memory=False.\n",
      "  df=pd.read_csv('accepted_2007_to_2018Q4.csv')\n"
     ]
    }
   ],
   "source": [
    "df=pd.read_csv('accepted_2007_to_2018Q4.csv')"
   ]
  },
  {
   "cell_type": "code",
   "execution_count": 3,
   "id": "7d24ae42",
   "metadata": {},
   "outputs": [
    {
     "data": {
      "text/html": [
       "<div>\n",
       "<style scoped>\n",
       "    .dataframe tbody tr th:only-of-type {\n",
       "        vertical-align: middle;\n",
       "    }\n",
       "\n",
       "    .dataframe tbody tr th {\n",
       "        vertical-align: top;\n",
       "    }\n",
       "\n",
       "    .dataframe thead th {\n",
       "        text-align: right;\n",
       "    }\n",
       "</style>\n",
       "<table border=\"1\" class=\"dataframe\">\n",
       "  <thead>\n",
       "    <tr style=\"text-align: right;\">\n",
       "      <th></th>\n",
       "      <th>member_id</th>\n",
       "      <th>loan_amnt</th>\n",
       "      <th>funded_amnt</th>\n",
       "      <th>funded_amnt_inv</th>\n",
       "      <th>int_rate</th>\n",
       "      <th>installment</th>\n",
       "      <th>annual_inc</th>\n",
       "      <th>dti</th>\n",
       "      <th>delinq_2yrs</th>\n",
       "      <th>fico_range_low</th>\n",
       "      <th>...</th>\n",
       "      <th>deferral_term</th>\n",
       "      <th>hardship_amount</th>\n",
       "      <th>hardship_length</th>\n",
       "      <th>hardship_dpd</th>\n",
       "      <th>orig_projected_additional_accrued_interest</th>\n",
       "      <th>hardship_payoff_balance_amount</th>\n",
       "      <th>hardship_last_payment_amount</th>\n",
       "      <th>settlement_amount</th>\n",
       "      <th>settlement_percentage</th>\n",
       "      <th>settlement_term</th>\n",
       "    </tr>\n",
       "  </thead>\n",
       "  <tbody>\n",
       "    <tr>\n",
       "      <th>count</th>\n",
       "      <td>0.0</td>\n",
       "      <td>2.260668e+06</td>\n",
       "      <td>2.260668e+06</td>\n",
       "      <td>2.260668e+06</td>\n",
       "      <td>2.260668e+06</td>\n",
       "      <td>2.260668e+06</td>\n",
       "      <td>2.260664e+06</td>\n",
       "      <td>2.258957e+06</td>\n",
       "      <td>2.260639e+06</td>\n",
       "      <td>2.260668e+06</td>\n",
       "      <td>...</td>\n",
       "      <td>10917.0</td>\n",
       "      <td>10917.000000</td>\n",
       "      <td>10917.0</td>\n",
       "      <td>10917.000000</td>\n",
       "      <td>8651.000000</td>\n",
       "      <td>10917.000000</td>\n",
       "      <td>10917.000000</td>\n",
       "      <td>34246.000000</td>\n",
       "      <td>34246.000000</td>\n",
       "      <td>34246.000000</td>\n",
       "    </tr>\n",
       "    <tr>\n",
       "      <th>mean</th>\n",
       "      <td>NaN</td>\n",
       "      <td>1.504693e+04</td>\n",
       "      <td>1.504166e+04</td>\n",
       "      <td>1.502344e+04</td>\n",
       "      <td>1.309283e+01</td>\n",
       "      <td>4.458068e+02</td>\n",
       "      <td>7.799243e+04</td>\n",
       "      <td>1.882420e+01</td>\n",
       "      <td>3.068792e-01</td>\n",
       "      <td>6.985882e+02</td>\n",
       "      <td>...</td>\n",
       "      <td>3.0</td>\n",
       "      <td>155.045981</td>\n",
       "      <td>3.0</td>\n",
       "      <td>13.743886</td>\n",
       "      <td>454.798089</td>\n",
       "      <td>11636.883942</td>\n",
       "      <td>193.994321</td>\n",
       "      <td>5010.664267</td>\n",
       "      <td>47.780365</td>\n",
       "      <td>13.191322</td>\n",
       "    </tr>\n",
       "    <tr>\n",
       "      <th>std</th>\n",
       "      <td>NaN</td>\n",
       "      <td>9.190245e+03</td>\n",
       "      <td>9.188413e+03</td>\n",
       "      <td>9.192332e+03</td>\n",
       "      <td>4.832138e+00</td>\n",
       "      <td>2.671735e+02</td>\n",
       "      <td>1.126962e+05</td>\n",
       "      <td>1.418333e+01</td>\n",
       "      <td>8.672303e-01</td>\n",
       "      <td>3.301038e+01</td>\n",
       "      <td>...</td>\n",
       "      <td>0.0</td>\n",
       "      <td>129.040594</td>\n",
       "      <td>0.0</td>\n",
       "      <td>9.671178</td>\n",
       "      <td>375.385500</td>\n",
       "      <td>7625.988281</td>\n",
       "      <td>198.629496</td>\n",
       "      <td>3693.122590</td>\n",
       "      <td>7.311822</td>\n",
       "      <td>8.159980</td>\n",
       "    </tr>\n",
       "    <tr>\n",
       "      <th>min</th>\n",
       "      <td>NaN</td>\n",
       "      <td>5.000000e+02</td>\n",
       "      <td>5.000000e+02</td>\n",
       "      <td>0.000000e+00</td>\n",
       "      <td>5.310000e+00</td>\n",
       "      <td>4.930000e+00</td>\n",
       "      <td>0.000000e+00</td>\n",
       "      <td>-1.000000e+00</td>\n",
       "      <td>0.000000e+00</td>\n",
       "      <td>6.100000e+02</td>\n",
       "      <td>...</td>\n",
       "      <td>3.0</td>\n",
       "      <td>0.640000</td>\n",
       "      <td>3.0</td>\n",
       "      <td>0.000000</td>\n",
       "      <td>1.920000</td>\n",
       "      <td>55.730000</td>\n",
       "      <td>0.010000</td>\n",
       "      <td>44.210000</td>\n",
       "      <td>0.200000</td>\n",
       "      <td>0.000000</td>\n",
       "    </tr>\n",
       "    <tr>\n",
       "      <th>25%</th>\n",
       "      <td>NaN</td>\n",
       "      <td>8.000000e+03</td>\n",
       "      <td>8.000000e+03</td>\n",
       "      <td>8.000000e+03</td>\n",
       "      <td>9.490000e+00</td>\n",
       "      <td>2.516500e+02</td>\n",
       "      <td>4.600000e+04</td>\n",
       "      <td>1.189000e+01</td>\n",
       "      <td>0.000000e+00</td>\n",
       "      <td>6.750000e+02</td>\n",
       "      <td>...</td>\n",
       "      <td>3.0</td>\n",
       "      <td>59.440000</td>\n",
       "      <td>3.0</td>\n",
       "      <td>5.000000</td>\n",
       "      <td>175.230000</td>\n",
       "      <td>5627.000000</td>\n",
       "      <td>44.440000</td>\n",
       "      <td>2208.000000</td>\n",
       "      <td>45.000000</td>\n",
       "      <td>6.000000</td>\n",
       "    </tr>\n",
       "    <tr>\n",
       "      <th>50%</th>\n",
       "      <td>NaN</td>\n",
       "      <td>1.290000e+04</td>\n",
       "      <td>1.287500e+04</td>\n",
       "      <td>1.280000e+04</td>\n",
       "      <td>1.262000e+01</td>\n",
       "      <td>3.779900e+02</td>\n",
       "      <td>6.500000e+04</td>\n",
       "      <td>1.784000e+01</td>\n",
       "      <td>0.000000e+00</td>\n",
       "      <td>6.900000e+02</td>\n",
       "      <td>...</td>\n",
       "      <td>3.0</td>\n",
       "      <td>119.140000</td>\n",
       "      <td>3.0</td>\n",
       "      <td>15.000000</td>\n",
       "      <td>352.770000</td>\n",
       "      <td>10028.390000</td>\n",
       "      <td>133.160000</td>\n",
       "      <td>4146.110000</td>\n",
       "      <td>45.000000</td>\n",
       "      <td>14.000000</td>\n",
       "    </tr>\n",
       "    <tr>\n",
       "      <th>75%</th>\n",
       "      <td>NaN</td>\n",
       "      <td>2.000000e+04</td>\n",
       "      <td>2.000000e+04</td>\n",
       "      <td>2.000000e+04</td>\n",
       "      <td>1.599000e+01</td>\n",
       "      <td>5.933200e+02</td>\n",
       "      <td>9.300000e+04</td>\n",
       "      <td>2.449000e+01</td>\n",
       "      <td>0.000000e+00</td>\n",
       "      <td>7.150000e+02</td>\n",
       "      <td>...</td>\n",
       "      <td>3.0</td>\n",
       "      <td>213.260000</td>\n",
       "      <td>3.0</td>\n",
       "      <td>22.000000</td>\n",
       "      <td>620.175000</td>\n",
       "      <td>16151.890000</td>\n",
       "      <td>284.190000</td>\n",
       "      <td>6850.172500</td>\n",
       "      <td>50.000000</td>\n",
       "      <td>18.000000</td>\n",
       "    </tr>\n",
       "    <tr>\n",
       "      <th>max</th>\n",
       "      <td>NaN</td>\n",
       "      <td>4.000000e+04</td>\n",
       "      <td>4.000000e+04</td>\n",
       "      <td>4.000000e+04</td>\n",
       "      <td>3.099000e+01</td>\n",
       "      <td>1.719830e+03</td>\n",
       "      <td>1.100000e+08</td>\n",
       "      <td>9.990000e+02</td>\n",
       "      <td>5.800000e+01</td>\n",
       "      <td>8.450000e+02</td>\n",
       "      <td>...</td>\n",
       "      <td>3.0</td>\n",
       "      <td>943.940000</td>\n",
       "      <td>3.0</td>\n",
       "      <td>37.000000</td>\n",
       "      <td>2680.890000</td>\n",
       "      <td>40306.410000</td>\n",
       "      <td>1407.860000</td>\n",
       "      <td>33601.000000</td>\n",
       "      <td>521.350000</td>\n",
       "      <td>181.000000</td>\n",
       "    </tr>\n",
       "  </tbody>\n",
       "</table>\n",
       "<p>8 rows × 113 columns</p>\n",
       "</div>"
      ],
      "text/plain": [
       "       member_id     loan_amnt   funded_amnt  funded_amnt_inv      int_rate  \\\n",
       "count        0.0  2.260668e+06  2.260668e+06     2.260668e+06  2.260668e+06   \n",
       "mean         NaN  1.504693e+04  1.504166e+04     1.502344e+04  1.309283e+01   \n",
       "std          NaN  9.190245e+03  9.188413e+03     9.192332e+03  4.832138e+00   \n",
       "min          NaN  5.000000e+02  5.000000e+02     0.000000e+00  5.310000e+00   \n",
       "25%          NaN  8.000000e+03  8.000000e+03     8.000000e+03  9.490000e+00   \n",
       "50%          NaN  1.290000e+04  1.287500e+04     1.280000e+04  1.262000e+01   \n",
       "75%          NaN  2.000000e+04  2.000000e+04     2.000000e+04  1.599000e+01   \n",
       "max          NaN  4.000000e+04  4.000000e+04     4.000000e+04  3.099000e+01   \n",
       "\n",
       "        installment    annual_inc           dti   delinq_2yrs  fico_range_low  \\\n",
       "count  2.260668e+06  2.260664e+06  2.258957e+06  2.260639e+06    2.260668e+06   \n",
       "mean   4.458068e+02  7.799243e+04  1.882420e+01  3.068792e-01    6.985882e+02   \n",
       "std    2.671735e+02  1.126962e+05  1.418333e+01  8.672303e-01    3.301038e+01   \n",
       "min    4.930000e+00  0.000000e+00 -1.000000e+00  0.000000e+00    6.100000e+02   \n",
       "25%    2.516500e+02  4.600000e+04  1.189000e+01  0.000000e+00    6.750000e+02   \n",
       "50%    3.779900e+02  6.500000e+04  1.784000e+01  0.000000e+00    6.900000e+02   \n",
       "75%    5.933200e+02  9.300000e+04  2.449000e+01  0.000000e+00    7.150000e+02   \n",
       "max    1.719830e+03  1.100000e+08  9.990000e+02  5.800000e+01    8.450000e+02   \n",
       "\n",
       "       ...  deferral_term  hardship_amount  hardship_length  hardship_dpd  \\\n",
       "count  ...        10917.0     10917.000000          10917.0  10917.000000   \n",
       "mean   ...            3.0       155.045981              3.0     13.743886   \n",
       "std    ...            0.0       129.040594              0.0      9.671178   \n",
       "min    ...            3.0         0.640000              3.0      0.000000   \n",
       "25%    ...            3.0        59.440000              3.0      5.000000   \n",
       "50%    ...            3.0       119.140000              3.0     15.000000   \n",
       "75%    ...            3.0       213.260000              3.0     22.000000   \n",
       "max    ...            3.0       943.940000              3.0     37.000000   \n",
       "\n",
       "       orig_projected_additional_accrued_interest  \\\n",
       "count                                 8651.000000   \n",
       "mean                                   454.798089   \n",
       "std                                    375.385500   \n",
       "min                                      1.920000   \n",
       "25%                                    175.230000   \n",
       "50%                                    352.770000   \n",
       "75%                                    620.175000   \n",
       "max                                   2680.890000   \n",
       "\n",
       "       hardship_payoff_balance_amount  hardship_last_payment_amount  \\\n",
       "count                    10917.000000                  10917.000000   \n",
       "mean                     11636.883942                    193.994321   \n",
       "std                       7625.988281                    198.629496   \n",
       "min                         55.730000                      0.010000   \n",
       "25%                       5627.000000                     44.440000   \n",
       "50%                      10028.390000                    133.160000   \n",
       "75%                      16151.890000                    284.190000   \n",
       "max                      40306.410000                   1407.860000   \n",
       "\n",
       "       settlement_amount  settlement_percentage  settlement_term  \n",
       "count       34246.000000           34246.000000     34246.000000  \n",
       "mean         5010.664267              47.780365        13.191322  \n",
       "std          3693.122590               7.311822         8.159980  \n",
       "min            44.210000               0.200000         0.000000  \n",
       "25%          2208.000000              45.000000         6.000000  \n",
       "50%          4146.110000              45.000000        14.000000  \n",
       "75%          6850.172500              50.000000        18.000000  \n",
       "max         33601.000000             521.350000       181.000000  \n",
       "\n",
       "[8 rows x 113 columns]"
      ]
     },
     "execution_count": 3,
     "metadata": {},
     "output_type": "execute_result"
    }
   ],
   "source": [
    "df.describe()"
   ]
  },
  {
   "cell_type": "code",
   "execution_count": 4,
   "id": "d2b537bc",
   "metadata": {
    "scrolled": false
   },
   "outputs": [
    {
     "data": {
      "text/html": [
       "<div>\n",
       "<style scoped>\n",
       "    .dataframe tbody tr th:only-of-type {\n",
       "        vertical-align: middle;\n",
       "    }\n",
       "\n",
       "    .dataframe tbody tr th {\n",
       "        vertical-align: top;\n",
       "    }\n",
       "\n",
       "    .dataframe thead th {\n",
       "        text-align: right;\n",
       "    }\n",
       "</style>\n",
       "<table border=\"1\" class=\"dataframe\">\n",
       "  <thead>\n",
       "    <tr style=\"text-align: right;\">\n",
       "      <th></th>\n",
       "      <th>loan_amnt</th>\n",
       "      <th>term</th>\n",
       "      <th>int_rate</th>\n",
       "      <th>installment</th>\n",
       "      <th>grade</th>\n",
       "      <th>sub_grade</th>\n",
       "      <th>emp_title</th>\n",
       "      <th>emp_length</th>\n",
       "      <th>home_ownership</th>\n",
       "      <th>annual_inc</th>\n",
       "      <th>...</th>\n",
       "      <th>earliest_cr_line</th>\n",
       "      <th>open_acc</th>\n",
       "      <th>pub_rec</th>\n",
       "      <th>revol_bal</th>\n",
       "      <th>revol_util</th>\n",
       "      <th>total_acc</th>\n",
       "      <th>initial_list_status</th>\n",
       "      <th>application_type</th>\n",
       "      <th>mort_acc</th>\n",
       "      <th>pub_rec_bankruptcies</th>\n",
       "    </tr>\n",
       "  </thead>\n",
       "  <tbody>\n",
       "    <tr>\n",
       "      <th>0</th>\n",
       "      <td>3600.0</td>\n",
       "      <td>36 months</td>\n",
       "      <td>13.99</td>\n",
       "      <td>123.03</td>\n",
       "      <td>C</td>\n",
       "      <td>C4</td>\n",
       "      <td>leadman</td>\n",
       "      <td>10+ years</td>\n",
       "      <td>MORTGAGE</td>\n",
       "      <td>55000.0</td>\n",
       "      <td>...</td>\n",
       "      <td>Aug-2003</td>\n",
       "      <td>7.0</td>\n",
       "      <td>0.0</td>\n",
       "      <td>2765.0</td>\n",
       "      <td>29.7</td>\n",
       "      <td>13.0</td>\n",
       "      <td>w</td>\n",
       "      <td>Individual</td>\n",
       "      <td>1.0</td>\n",
       "      <td>0.0</td>\n",
       "    </tr>\n",
       "    <tr>\n",
       "      <th>1</th>\n",
       "      <td>24700.0</td>\n",
       "      <td>36 months</td>\n",
       "      <td>11.99</td>\n",
       "      <td>820.28</td>\n",
       "      <td>C</td>\n",
       "      <td>C1</td>\n",
       "      <td>Engineer</td>\n",
       "      <td>10+ years</td>\n",
       "      <td>MORTGAGE</td>\n",
       "      <td>65000.0</td>\n",
       "      <td>...</td>\n",
       "      <td>Dec-1999</td>\n",
       "      <td>22.0</td>\n",
       "      <td>0.0</td>\n",
       "      <td>21470.0</td>\n",
       "      <td>19.2</td>\n",
       "      <td>38.0</td>\n",
       "      <td>w</td>\n",
       "      <td>Individual</td>\n",
       "      <td>4.0</td>\n",
       "      <td>0.0</td>\n",
       "    </tr>\n",
       "    <tr>\n",
       "      <th>2</th>\n",
       "      <td>20000.0</td>\n",
       "      <td>60 months</td>\n",
       "      <td>10.78</td>\n",
       "      <td>432.66</td>\n",
       "      <td>B</td>\n",
       "      <td>B4</td>\n",
       "      <td>truck driver</td>\n",
       "      <td>10+ years</td>\n",
       "      <td>MORTGAGE</td>\n",
       "      <td>63000.0</td>\n",
       "      <td>...</td>\n",
       "      <td>Aug-2000</td>\n",
       "      <td>6.0</td>\n",
       "      <td>0.0</td>\n",
       "      <td>7869.0</td>\n",
       "      <td>56.2</td>\n",
       "      <td>18.0</td>\n",
       "      <td>w</td>\n",
       "      <td>Joint App</td>\n",
       "      <td>5.0</td>\n",
       "      <td>0.0</td>\n",
       "    </tr>\n",
       "    <tr>\n",
       "      <th>3</th>\n",
       "      <td>35000.0</td>\n",
       "      <td>60 months</td>\n",
       "      <td>14.85</td>\n",
       "      <td>829.90</td>\n",
       "      <td>C</td>\n",
       "      <td>C5</td>\n",
       "      <td>Information Systems Officer</td>\n",
       "      <td>10+ years</td>\n",
       "      <td>MORTGAGE</td>\n",
       "      <td>110000.0</td>\n",
       "      <td>...</td>\n",
       "      <td>Sep-2008</td>\n",
       "      <td>13.0</td>\n",
       "      <td>0.0</td>\n",
       "      <td>7802.0</td>\n",
       "      <td>11.6</td>\n",
       "      <td>17.0</td>\n",
       "      <td>w</td>\n",
       "      <td>Individual</td>\n",
       "      <td>1.0</td>\n",
       "      <td>0.0</td>\n",
       "    </tr>\n",
       "    <tr>\n",
       "      <th>4</th>\n",
       "      <td>10400.0</td>\n",
       "      <td>60 months</td>\n",
       "      <td>22.45</td>\n",
       "      <td>289.91</td>\n",
       "      <td>F</td>\n",
       "      <td>F1</td>\n",
       "      <td>Contract Specialist</td>\n",
       "      <td>3 years</td>\n",
       "      <td>MORTGAGE</td>\n",
       "      <td>104433.0</td>\n",
       "      <td>...</td>\n",
       "      <td>Jun-1998</td>\n",
       "      <td>12.0</td>\n",
       "      <td>0.0</td>\n",
       "      <td>21929.0</td>\n",
       "      <td>64.5</td>\n",
       "      <td>35.0</td>\n",
       "      <td>w</td>\n",
       "      <td>Individual</td>\n",
       "      <td>6.0</td>\n",
       "      <td>0.0</td>\n",
       "    </tr>\n",
       "    <tr>\n",
       "      <th>...</th>\n",
       "      <td>...</td>\n",
       "      <td>...</td>\n",
       "      <td>...</td>\n",
       "      <td>...</td>\n",
       "      <td>...</td>\n",
       "      <td>...</td>\n",
       "      <td>...</td>\n",
       "      <td>...</td>\n",
       "      <td>...</td>\n",
       "      <td>...</td>\n",
       "      <td>...</td>\n",
       "      <td>...</td>\n",
       "      <td>...</td>\n",
       "      <td>...</td>\n",
       "      <td>...</td>\n",
       "      <td>...</td>\n",
       "      <td>...</td>\n",
       "      <td>...</td>\n",
       "      <td>...</td>\n",
       "      <td>...</td>\n",
       "      <td>...</td>\n",
       "    </tr>\n",
       "    <tr>\n",
       "      <th>2260696</th>\n",
       "      <td>40000.0</td>\n",
       "      <td>60 months</td>\n",
       "      <td>10.49</td>\n",
       "      <td>859.56</td>\n",
       "      <td>B</td>\n",
       "      <td>B3</td>\n",
       "      <td>Vice President</td>\n",
       "      <td>9 years</td>\n",
       "      <td>MORTGAGE</td>\n",
       "      <td>227000.0</td>\n",
       "      <td>...</td>\n",
       "      <td>Feb-1995</td>\n",
       "      <td>5.0</td>\n",
       "      <td>0.0</td>\n",
       "      <td>8633.0</td>\n",
       "      <td>64.9</td>\n",
       "      <td>37.0</td>\n",
       "      <td>f</td>\n",
       "      <td>Individual</td>\n",
       "      <td>3.0</td>\n",
       "      <td>0.0</td>\n",
       "    </tr>\n",
       "    <tr>\n",
       "      <th>2260697</th>\n",
       "      <td>24000.0</td>\n",
       "      <td>60 months</td>\n",
       "      <td>14.49</td>\n",
       "      <td>564.56</td>\n",
       "      <td>C</td>\n",
       "      <td>C4</td>\n",
       "      <td>Program Manager</td>\n",
       "      <td>6 years</td>\n",
       "      <td>RENT</td>\n",
       "      <td>110000.0</td>\n",
       "      <td>...</td>\n",
       "      <td>Jul-1999</td>\n",
       "      <td>10.0</td>\n",
       "      <td>1.0</td>\n",
       "      <td>17641.0</td>\n",
       "      <td>68.1</td>\n",
       "      <td>31.0</td>\n",
       "      <td>f</td>\n",
       "      <td>Individual</td>\n",
       "      <td>2.0</td>\n",
       "      <td>1.0</td>\n",
       "    </tr>\n",
       "    <tr>\n",
       "      <th>2260698</th>\n",
       "      <td>14000.0</td>\n",
       "      <td>60 months</td>\n",
       "      <td>14.49</td>\n",
       "      <td>329.33</td>\n",
       "      <td>C</td>\n",
       "      <td>C4</td>\n",
       "      <td>Customer Service Technician</td>\n",
       "      <td>10+ years</td>\n",
       "      <td>MORTGAGE</td>\n",
       "      <td>95000.0</td>\n",
       "      <td>...</td>\n",
       "      <td>Jun-1996</td>\n",
       "      <td>8.0</td>\n",
       "      <td>0.0</td>\n",
       "      <td>7662.0</td>\n",
       "      <td>54.0</td>\n",
       "      <td>22.0</td>\n",
       "      <td>w</td>\n",
       "      <td>Individual</td>\n",
       "      <td>1.0</td>\n",
       "      <td>0.0</td>\n",
       "    </tr>\n",
       "    <tr>\n",
       "      <th>2260699</th>\n",
       "      <td>NaN</td>\n",
       "      <td>NaN</td>\n",
       "      <td>NaN</td>\n",
       "      <td>NaN</td>\n",
       "      <td>NaN</td>\n",
       "      <td>NaN</td>\n",
       "      <td>NaN</td>\n",
       "      <td>NaN</td>\n",
       "      <td>NaN</td>\n",
       "      <td>NaN</td>\n",
       "      <td>...</td>\n",
       "      <td>NaN</td>\n",
       "      <td>NaN</td>\n",
       "      <td>NaN</td>\n",
       "      <td>NaN</td>\n",
       "      <td>NaN</td>\n",
       "      <td>NaN</td>\n",
       "      <td>NaN</td>\n",
       "      <td>NaN</td>\n",
       "      <td>NaN</td>\n",
       "      <td>NaN</td>\n",
       "    </tr>\n",
       "    <tr>\n",
       "      <th>2260700</th>\n",
       "      <td>NaN</td>\n",
       "      <td>NaN</td>\n",
       "      <td>NaN</td>\n",
       "      <td>NaN</td>\n",
       "      <td>NaN</td>\n",
       "      <td>NaN</td>\n",
       "      <td>NaN</td>\n",
       "      <td>NaN</td>\n",
       "      <td>NaN</td>\n",
       "      <td>NaN</td>\n",
       "      <td>...</td>\n",
       "      <td>NaN</td>\n",
       "      <td>NaN</td>\n",
       "      <td>NaN</td>\n",
       "      <td>NaN</td>\n",
       "      <td>NaN</td>\n",
       "      <td>NaN</td>\n",
       "      <td>NaN</td>\n",
       "      <td>NaN</td>\n",
       "      <td>NaN</td>\n",
       "      <td>NaN</td>\n",
       "    </tr>\n",
       "  </tbody>\n",
       "</table>\n",
       "<p>2260701 rows × 28 columns</p>\n",
       "</div>"
      ],
      "text/plain": [
       "         loan_amnt        term  int_rate  installment grade sub_grade  \\\n",
       "0           3600.0   36 months     13.99       123.03     C        C4   \n",
       "1          24700.0   36 months     11.99       820.28     C        C1   \n",
       "2          20000.0   60 months     10.78       432.66     B        B4   \n",
       "3          35000.0   60 months     14.85       829.90     C        C5   \n",
       "4          10400.0   60 months     22.45       289.91     F        F1   \n",
       "...            ...         ...       ...          ...   ...       ...   \n",
       "2260696    40000.0   60 months     10.49       859.56     B        B3   \n",
       "2260697    24000.0   60 months     14.49       564.56     C        C4   \n",
       "2260698    14000.0   60 months     14.49       329.33     C        C4   \n",
       "2260699        NaN         NaN       NaN          NaN   NaN       NaN   \n",
       "2260700        NaN         NaN       NaN          NaN   NaN       NaN   \n",
       "\n",
       "                           emp_title emp_length home_ownership  annual_inc  \\\n",
       "0                            leadman  10+ years       MORTGAGE     55000.0   \n",
       "1                           Engineer  10+ years       MORTGAGE     65000.0   \n",
       "2                       truck driver  10+ years       MORTGAGE     63000.0   \n",
       "3        Information Systems Officer  10+ years       MORTGAGE    110000.0   \n",
       "4                Contract Specialist    3 years       MORTGAGE    104433.0   \n",
       "...                              ...        ...            ...         ...   \n",
       "2260696              Vice President     9 years       MORTGAGE    227000.0   \n",
       "2260697              Program Manager    6 years           RENT    110000.0   \n",
       "2260698  Customer Service Technician  10+ years       MORTGAGE     95000.0   \n",
       "2260699                          NaN        NaN            NaN         NaN   \n",
       "2260700                          NaN        NaN            NaN         NaN   \n",
       "\n",
       "         ... earliest_cr_line open_acc pub_rec revol_bal revol_util  \\\n",
       "0        ...         Aug-2003      7.0     0.0    2765.0       29.7   \n",
       "1        ...         Dec-1999     22.0     0.0   21470.0       19.2   \n",
       "2        ...         Aug-2000      6.0     0.0    7869.0       56.2   \n",
       "3        ...         Sep-2008     13.0     0.0    7802.0       11.6   \n",
       "4        ...         Jun-1998     12.0     0.0   21929.0       64.5   \n",
       "...      ...              ...      ...     ...       ...        ...   \n",
       "2260696  ...         Feb-1995      5.0     0.0    8633.0       64.9   \n",
       "2260697  ...         Jul-1999     10.0     1.0   17641.0       68.1   \n",
       "2260698  ...         Jun-1996      8.0     0.0    7662.0       54.0   \n",
       "2260699  ...              NaN      NaN     NaN       NaN        NaN   \n",
       "2260700  ...              NaN      NaN     NaN       NaN        NaN   \n",
       "\n",
       "         total_acc  initial_list_status  application_type mort_acc  \\\n",
       "0             13.0                    w        Individual      1.0   \n",
       "1             38.0                    w        Individual      4.0   \n",
       "2             18.0                    w         Joint App      5.0   \n",
       "3             17.0                    w        Individual      1.0   \n",
       "4             35.0                    w        Individual      6.0   \n",
       "...            ...                  ...               ...      ...   \n",
       "2260696       37.0                    f        Individual      3.0   \n",
       "2260697       31.0                    f        Individual      2.0   \n",
       "2260698       22.0                    w        Individual      1.0   \n",
       "2260699        NaN                  NaN               NaN      NaN   \n",
       "2260700        NaN                  NaN               NaN      NaN   \n",
       "\n",
       "         pub_rec_bankruptcies  \n",
       "0                         0.0  \n",
       "1                         0.0  \n",
       "2                         0.0  \n",
       "3                         0.0  \n",
       "4                         0.0  \n",
       "...                       ...  \n",
       "2260696                   0.0  \n",
       "2260697                   1.0  \n",
       "2260698                   0.0  \n",
       "2260699                   NaN  \n",
       "2260700                   NaN  \n",
       "\n",
       "[2260701 rows x 28 columns]"
      ]
     },
     "execution_count": 4,
     "metadata": {},
     "output_type": "execute_result"
    }
   ],
   "source": [
    "df=df[[\n",
    "'loan_amnt'\n",
    ",'term'\n",
    ",'int_rate'\n",
    ",'installment'\n",
    ",'grade'\n",
    ",'sub_grade'\n",
    ",'emp_title'\n",
    ",'emp_length'\n",
    ",'home_ownership'\n",
    ",'annual_inc'\n",
    ",'verification_status'\n",
    ",'issue_d'\n",
    ",'loan_status'\n",
    ",'purpose'\n",
    ",'title'\n",
    ",'dti'\n",
    ",'fico_range_low'\n",
    ",'fico_range_high'\n",
    ",'earliest_cr_line'\n",
    ",'open_acc',\n",
    "'pub_rec',\n",
    "'revol_bal',\n",
    "'revol_util',\n",
    "'total_acc',\n",
    "'initial_list_status', \n",
    "'application_type',\n",
    "'mort_acc',\n",
    "'pub_rec_bankruptcies']]\n",
    "df"
   ]
  },
  {
   "cell_type": "code",
   "execution_count": 5,
   "id": "398fe406",
   "metadata": {},
   "outputs": [
    {
     "data": {
      "text/plain": [
       "32"
      ]
     },
     "execution_count": 5,
     "metadata": {},
     "output_type": "execute_result"
    }
   ],
   "source": [
    "#kiểm tra lặp\n",
    "df.duplicated().sum()"
   ]
  },
  {
   "cell_type": "code",
   "execution_count": 6,
   "id": "7b5b72ce",
   "metadata": {},
   "outputs": [
    {
     "data": {
      "text/html": [
       "<div>\n",
       "<style scoped>\n",
       "    .dataframe tbody tr th:only-of-type {\n",
       "        vertical-align: middle;\n",
       "    }\n",
       "\n",
       "    .dataframe tbody tr th {\n",
       "        vertical-align: top;\n",
       "    }\n",
       "\n",
       "    .dataframe thead th {\n",
       "        text-align: right;\n",
       "    }\n",
       "</style>\n",
       "<table border=\"1\" class=\"dataframe\">\n",
       "  <thead>\n",
       "    <tr style=\"text-align: right;\">\n",
       "      <th></th>\n",
       "      <th>loan_amnt</th>\n",
       "      <th>term</th>\n",
       "      <th>int_rate</th>\n",
       "      <th>installment</th>\n",
       "      <th>grade</th>\n",
       "      <th>sub_grade</th>\n",
       "      <th>emp_title</th>\n",
       "      <th>emp_length</th>\n",
       "      <th>home_ownership</th>\n",
       "      <th>annual_inc</th>\n",
       "      <th>...</th>\n",
       "      <th>earliest_cr_line</th>\n",
       "      <th>open_acc</th>\n",
       "      <th>pub_rec</th>\n",
       "      <th>revol_bal</th>\n",
       "      <th>revol_util</th>\n",
       "      <th>total_acc</th>\n",
       "      <th>initial_list_status</th>\n",
       "      <th>application_type</th>\n",
       "      <th>mort_acc</th>\n",
       "      <th>pub_rec_bankruptcies</th>\n",
       "    </tr>\n",
       "  </thead>\n",
       "  <tbody>\n",
       "    <tr>\n",
       "      <th>0</th>\n",
       "      <td>3600.0</td>\n",
       "      <td>36 months</td>\n",
       "      <td>13.99</td>\n",
       "      <td>123.03</td>\n",
       "      <td>C</td>\n",
       "      <td>C4</td>\n",
       "      <td>leadman</td>\n",
       "      <td>10+ years</td>\n",
       "      <td>MORTGAGE</td>\n",
       "      <td>55000.0</td>\n",
       "      <td>...</td>\n",
       "      <td>Aug-2003</td>\n",
       "      <td>7.0</td>\n",
       "      <td>0.0</td>\n",
       "      <td>2765.0</td>\n",
       "      <td>29.7</td>\n",
       "      <td>13.0</td>\n",
       "      <td>w</td>\n",
       "      <td>Individual</td>\n",
       "      <td>1.0</td>\n",
       "      <td>0.0</td>\n",
       "    </tr>\n",
       "    <tr>\n",
       "      <th>1</th>\n",
       "      <td>24700.0</td>\n",
       "      <td>36 months</td>\n",
       "      <td>11.99</td>\n",
       "      <td>820.28</td>\n",
       "      <td>C</td>\n",
       "      <td>C1</td>\n",
       "      <td>Engineer</td>\n",
       "      <td>10+ years</td>\n",
       "      <td>MORTGAGE</td>\n",
       "      <td>65000.0</td>\n",
       "      <td>...</td>\n",
       "      <td>Dec-1999</td>\n",
       "      <td>22.0</td>\n",
       "      <td>0.0</td>\n",
       "      <td>21470.0</td>\n",
       "      <td>19.2</td>\n",
       "      <td>38.0</td>\n",
       "      <td>w</td>\n",
       "      <td>Individual</td>\n",
       "      <td>4.0</td>\n",
       "      <td>0.0</td>\n",
       "    </tr>\n",
       "    <tr>\n",
       "      <th>2</th>\n",
       "      <td>20000.0</td>\n",
       "      <td>60 months</td>\n",
       "      <td>10.78</td>\n",
       "      <td>432.66</td>\n",
       "      <td>B</td>\n",
       "      <td>B4</td>\n",
       "      <td>truck driver</td>\n",
       "      <td>10+ years</td>\n",
       "      <td>MORTGAGE</td>\n",
       "      <td>63000.0</td>\n",
       "      <td>...</td>\n",
       "      <td>Aug-2000</td>\n",
       "      <td>6.0</td>\n",
       "      <td>0.0</td>\n",
       "      <td>7869.0</td>\n",
       "      <td>56.2</td>\n",
       "      <td>18.0</td>\n",
       "      <td>w</td>\n",
       "      <td>Joint App</td>\n",
       "      <td>5.0</td>\n",
       "      <td>0.0</td>\n",
       "    </tr>\n",
       "    <tr>\n",
       "      <th>3</th>\n",
       "      <td>35000.0</td>\n",
       "      <td>60 months</td>\n",
       "      <td>14.85</td>\n",
       "      <td>829.90</td>\n",
       "      <td>C</td>\n",
       "      <td>C5</td>\n",
       "      <td>Information Systems Officer</td>\n",
       "      <td>10+ years</td>\n",
       "      <td>MORTGAGE</td>\n",
       "      <td>110000.0</td>\n",
       "      <td>...</td>\n",
       "      <td>Sep-2008</td>\n",
       "      <td>13.0</td>\n",
       "      <td>0.0</td>\n",
       "      <td>7802.0</td>\n",
       "      <td>11.6</td>\n",
       "      <td>17.0</td>\n",
       "      <td>w</td>\n",
       "      <td>Individual</td>\n",
       "      <td>1.0</td>\n",
       "      <td>0.0</td>\n",
       "    </tr>\n",
       "    <tr>\n",
       "      <th>4</th>\n",
       "      <td>10400.0</td>\n",
       "      <td>60 months</td>\n",
       "      <td>22.45</td>\n",
       "      <td>289.91</td>\n",
       "      <td>F</td>\n",
       "      <td>F1</td>\n",
       "      <td>Contract Specialist</td>\n",
       "      <td>3 years</td>\n",
       "      <td>MORTGAGE</td>\n",
       "      <td>104433.0</td>\n",
       "      <td>...</td>\n",
       "      <td>Jun-1998</td>\n",
       "      <td>12.0</td>\n",
       "      <td>0.0</td>\n",
       "      <td>21929.0</td>\n",
       "      <td>64.5</td>\n",
       "      <td>35.0</td>\n",
       "      <td>w</td>\n",
       "      <td>Individual</td>\n",
       "      <td>6.0</td>\n",
       "      <td>0.0</td>\n",
       "    </tr>\n",
       "    <tr>\n",
       "      <th>...</th>\n",
       "      <td>...</td>\n",
       "      <td>...</td>\n",
       "      <td>...</td>\n",
       "      <td>...</td>\n",
       "      <td>...</td>\n",
       "      <td>...</td>\n",
       "      <td>...</td>\n",
       "      <td>...</td>\n",
       "      <td>...</td>\n",
       "      <td>...</td>\n",
       "      <td>...</td>\n",
       "      <td>...</td>\n",
       "      <td>...</td>\n",
       "      <td>...</td>\n",
       "      <td>...</td>\n",
       "      <td>...</td>\n",
       "      <td>...</td>\n",
       "      <td>...</td>\n",
       "      <td>...</td>\n",
       "      <td>...</td>\n",
       "      <td>...</td>\n",
       "    </tr>\n",
       "    <tr>\n",
       "      <th>2260694</th>\n",
       "      <td>24000.0</td>\n",
       "      <td>60 months</td>\n",
       "      <td>12.79</td>\n",
       "      <td>543.50</td>\n",
       "      <td>C</td>\n",
       "      <td>C1</td>\n",
       "      <td>Unit Operator</td>\n",
       "      <td>7 years</td>\n",
       "      <td>MORTGAGE</td>\n",
       "      <td>95000.0</td>\n",
       "      <td>...</td>\n",
       "      <td>Dec-1999</td>\n",
       "      <td>5.0</td>\n",
       "      <td>0.0</td>\n",
       "      <td>49431.0</td>\n",
       "      <td>84.4</td>\n",
       "      <td>54.0</td>\n",
       "      <td>f</td>\n",
       "      <td>Individual</td>\n",
       "      <td>0.0</td>\n",
       "      <td>0.0</td>\n",
       "    </tr>\n",
       "    <tr>\n",
       "      <th>2260695</th>\n",
       "      <td>24000.0</td>\n",
       "      <td>60 months</td>\n",
       "      <td>10.49</td>\n",
       "      <td>515.74</td>\n",
       "      <td>B</td>\n",
       "      <td>B3</td>\n",
       "      <td>Database Administrator</td>\n",
       "      <td>10+ years</td>\n",
       "      <td>MORTGAGE</td>\n",
       "      <td>108000.0</td>\n",
       "      <td>...</td>\n",
       "      <td>Feb-1991</td>\n",
       "      <td>24.0</td>\n",
       "      <td>1.0</td>\n",
       "      <td>21665.0</td>\n",
       "      <td>39.0</td>\n",
       "      <td>58.0</td>\n",
       "      <td>f</td>\n",
       "      <td>Individual</td>\n",
       "      <td>4.0</td>\n",
       "      <td>0.0</td>\n",
       "    </tr>\n",
       "    <tr>\n",
       "      <th>2260696</th>\n",
       "      <td>40000.0</td>\n",
       "      <td>60 months</td>\n",
       "      <td>10.49</td>\n",
       "      <td>859.56</td>\n",
       "      <td>B</td>\n",
       "      <td>B3</td>\n",
       "      <td>Vice President</td>\n",
       "      <td>9 years</td>\n",
       "      <td>MORTGAGE</td>\n",
       "      <td>227000.0</td>\n",
       "      <td>...</td>\n",
       "      <td>Feb-1995</td>\n",
       "      <td>5.0</td>\n",
       "      <td>0.0</td>\n",
       "      <td>8633.0</td>\n",
       "      <td>64.9</td>\n",
       "      <td>37.0</td>\n",
       "      <td>f</td>\n",
       "      <td>Individual</td>\n",
       "      <td>3.0</td>\n",
       "      <td>0.0</td>\n",
       "    </tr>\n",
       "    <tr>\n",
       "      <th>2260697</th>\n",
       "      <td>24000.0</td>\n",
       "      <td>60 months</td>\n",
       "      <td>14.49</td>\n",
       "      <td>564.56</td>\n",
       "      <td>C</td>\n",
       "      <td>C4</td>\n",
       "      <td>Program Manager</td>\n",
       "      <td>6 years</td>\n",
       "      <td>RENT</td>\n",
       "      <td>110000.0</td>\n",
       "      <td>...</td>\n",
       "      <td>Jul-1999</td>\n",
       "      <td>10.0</td>\n",
       "      <td>1.0</td>\n",
       "      <td>17641.0</td>\n",
       "      <td>68.1</td>\n",
       "      <td>31.0</td>\n",
       "      <td>f</td>\n",
       "      <td>Individual</td>\n",
       "      <td>2.0</td>\n",
       "      <td>1.0</td>\n",
       "    </tr>\n",
       "    <tr>\n",
       "      <th>2260698</th>\n",
       "      <td>14000.0</td>\n",
       "      <td>60 months</td>\n",
       "      <td>14.49</td>\n",
       "      <td>329.33</td>\n",
       "      <td>C</td>\n",
       "      <td>C4</td>\n",
       "      <td>Customer Service Technician</td>\n",
       "      <td>10+ years</td>\n",
       "      <td>MORTGAGE</td>\n",
       "      <td>95000.0</td>\n",
       "      <td>...</td>\n",
       "      <td>Jun-1996</td>\n",
       "      <td>8.0</td>\n",
       "      <td>0.0</td>\n",
       "      <td>7662.0</td>\n",
       "      <td>54.0</td>\n",
       "      <td>22.0</td>\n",
       "      <td>w</td>\n",
       "      <td>Individual</td>\n",
       "      <td>1.0</td>\n",
       "      <td>0.0</td>\n",
       "    </tr>\n",
       "  </tbody>\n",
       "</table>\n",
       "<p>2260669 rows × 28 columns</p>\n",
       "</div>"
      ],
      "text/plain": [
       "         loan_amnt        term  int_rate  installment grade sub_grade  \\\n",
       "0           3600.0   36 months     13.99       123.03     C        C4   \n",
       "1          24700.0   36 months     11.99       820.28     C        C1   \n",
       "2          20000.0   60 months     10.78       432.66     B        B4   \n",
       "3          35000.0   60 months     14.85       829.90     C        C5   \n",
       "4          10400.0   60 months     22.45       289.91     F        F1   \n",
       "...            ...         ...       ...          ...   ...       ...   \n",
       "2260694    24000.0   60 months     12.79       543.50     C        C1   \n",
       "2260695    24000.0   60 months     10.49       515.74     B        B3   \n",
       "2260696    40000.0   60 months     10.49       859.56     B        B3   \n",
       "2260697    24000.0   60 months     14.49       564.56     C        C4   \n",
       "2260698    14000.0   60 months     14.49       329.33     C        C4   \n",
       "\n",
       "                           emp_title emp_length home_ownership  annual_inc  \\\n",
       "0                            leadman  10+ years       MORTGAGE     55000.0   \n",
       "1                           Engineer  10+ years       MORTGAGE     65000.0   \n",
       "2                       truck driver  10+ years       MORTGAGE     63000.0   \n",
       "3        Information Systems Officer  10+ years       MORTGAGE    110000.0   \n",
       "4                Contract Specialist    3 years       MORTGAGE    104433.0   \n",
       "...                              ...        ...            ...         ...   \n",
       "2260694                Unit Operator    7 years       MORTGAGE     95000.0   \n",
       "2260695       Database Administrator  10+ years       MORTGAGE    108000.0   \n",
       "2260696              Vice President     9 years       MORTGAGE    227000.0   \n",
       "2260697              Program Manager    6 years           RENT    110000.0   \n",
       "2260698  Customer Service Technician  10+ years       MORTGAGE     95000.0   \n",
       "\n",
       "         ... earliest_cr_line open_acc pub_rec revol_bal revol_util  \\\n",
       "0        ...         Aug-2003      7.0     0.0    2765.0       29.7   \n",
       "1        ...         Dec-1999     22.0     0.0   21470.0       19.2   \n",
       "2        ...         Aug-2000      6.0     0.0    7869.0       56.2   \n",
       "3        ...         Sep-2008     13.0     0.0    7802.0       11.6   \n",
       "4        ...         Jun-1998     12.0     0.0   21929.0       64.5   \n",
       "...      ...              ...      ...     ...       ...        ...   \n",
       "2260694  ...         Dec-1999      5.0     0.0   49431.0       84.4   \n",
       "2260695  ...         Feb-1991     24.0     1.0   21665.0       39.0   \n",
       "2260696  ...         Feb-1995      5.0     0.0    8633.0       64.9   \n",
       "2260697  ...         Jul-1999     10.0     1.0   17641.0       68.1   \n",
       "2260698  ...         Jun-1996      8.0     0.0    7662.0       54.0   \n",
       "\n",
       "         total_acc  initial_list_status  application_type mort_acc  \\\n",
       "0             13.0                    w        Individual      1.0   \n",
       "1             38.0                    w        Individual      4.0   \n",
       "2             18.0                    w         Joint App      5.0   \n",
       "3             17.0                    w        Individual      1.0   \n",
       "4             35.0                    w        Individual      6.0   \n",
       "...            ...                  ...               ...      ...   \n",
       "2260694       54.0                    f        Individual      0.0   \n",
       "2260695       58.0                    f        Individual      4.0   \n",
       "2260696       37.0                    f        Individual      3.0   \n",
       "2260697       31.0                    f        Individual      2.0   \n",
       "2260698       22.0                    w        Individual      1.0   \n",
       "\n",
       "         pub_rec_bankruptcies  \n",
       "0                         0.0  \n",
       "1                         0.0  \n",
       "2                         0.0  \n",
       "3                         0.0  \n",
       "4                         0.0  \n",
       "...                       ...  \n",
       "2260694                   0.0  \n",
       "2260695                   0.0  \n",
       "2260696                   0.0  \n",
       "2260697                   1.0  \n",
       "2260698                   0.0  \n",
       "\n",
       "[2260669 rows x 28 columns]"
      ]
     },
     "execution_count": 6,
     "metadata": {},
     "output_type": "execute_result"
    }
   ],
   "source": [
    "#xoá những dữ liệu trùng lặp\n",
    "df[~df.duplicated()]"
   ]
  },
  {
   "attachments": {},
   "cell_type": "markdown",
   "id": "6549107b",
   "metadata": {},
   "source": [
    "# 1. Xử lý loan_status\n",
    "Trạng thái hiện tại của khoản vay"
   ]
  },
  {
   "cell_type": "code",
   "execution_count": 7,
   "id": "8981aeb3",
   "metadata": {},
   "outputs": [],
   "source": [
    "df = df[df['loan_status'].isin(['Fully Paid', 'Charged Off'])]"
   ]
  },
  {
   "cell_type": "code",
   "execution_count": 8,
   "id": "7d92cccc",
   "metadata": {},
   "outputs": [
    {
     "name": "stderr",
     "output_type": "stream",
     "text": [
      "/var/folders/b9/sybfjbkx1pg7r5bl3f56_tzm0000gn/T/ipykernel_28580/1811861435.py:5: SettingWithCopyWarning: \n",
      "A value is trying to be set on a copy of a slice from a DataFrame.\n",
      "Try using .loc[row_indexer,col_indexer] = value instead\n",
      "\n",
      "See the caveats in the documentation: https://pandas.pydata.org/pandas-docs/stable/user_guide/indexing.html#returning-a-view-versus-a-copy\n",
      "  df['Loan_Status']=df['loan_status'].apply(ChangeLoanInt)\n"
     ]
    }
   ],
   "source": [
    "def ChangeLoanInt(x):\n",
    "    if x=='Fully Paid':\n",
    "        return 1\n",
    "    else: return 0\n",
    "df['Loan_Status']=df['loan_status'].apply(ChangeLoanInt)\n"
   ]
  },
  {
   "cell_type": "code",
   "execution_count": 9,
   "id": "00df144f",
   "metadata": {},
   "outputs": [
    {
     "data": {
      "text/plain": [
       "1    1076751\n",
       "0     268559\n",
       "Name: Loan_Status, dtype: int64"
      ]
     },
     "execution_count": 9,
     "metadata": {},
     "output_type": "execute_result"
    }
   ],
   "source": [
    "df['Loan_Status'].value_counts()"
   ]
  },
  {
   "cell_type": "code",
   "execution_count": 10,
   "id": "10c63676",
   "metadata": {},
   "outputs": [],
   "source": [
    "df = df.drop('loan_status',axis = 1)"
   ]
  },
  {
   "attachments": {},
   "cell_type": "markdown",
   "id": "85d494d8",
   "metadata": {},
   "source": [
    "# 2. Xử lý term\n",
    "kì hạn khản vay tính bằng tháng "
   ]
  },
  {
   "cell_type": "code",
   "execution_count": 11,
   "id": "da2d8373",
   "metadata": {},
   "outputs": [
    {
     "data": {
      "text/plain": [
       "0"
      ]
     },
     "execution_count": 11,
     "metadata": {},
     "output_type": "execute_result"
    }
   ],
   "source": [
    "df['term'].isna().sum()"
   ]
  },
  {
   "cell_type": "code",
   "execution_count": 12,
   "id": "0aaf2c31",
   "metadata": {},
   "outputs": [],
   "source": [
    "df = df.dropna(subset=['term'])\n",
    "df['term'] = df['term'].str.replace(' months', '').astype(int)"
   ]
  },
  {
   "cell_type": "code",
   "execution_count": 13,
   "id": "28a3ef46",
   "metadata": {},
   "outputs": [
    {
     "data": {
      "text/plain": [
       "36    1020743\n",
       "60     324567\n",
       "Name: term, dtype: int64"
      ]
     },
     "execution_count": 13,
     "metadata": {},
     "output_type": "execute_result"
    }
   ],
   "source": [
    "df.term.value_counts()"
   ]
  },
  {
   "cell_type": "code",
   "execution_count": 14,
   "id": "9df20001",
   "metadata": {},
   "outputs": [
    {
     "data": {
      "text/plain": [
       "36    0.758742\n",
       "60    0.241258\n",
       "Name: term, dtype: float64"
      ]
     },
     "execution_count": 14,
     "metadata": {},
     "output_type": "execute_result"
    }
   ],
   "source": [
    "df['term'].value_counts(normalize=True)"
   ]
  },
  {
   "cell_type": "code",
   "execution_count": 15,
   "id": "72b77b50",
   "metadata": {},
   "outputs": [
    {
     "data": {
      "text/plain": [
       "<AxesSubplot:xlabel='term', ylabel='count'>"
      ]
     },
     "execution_count": 15,
     "metadata": {},
     "output_type": "execute_result"
    },
    {
     "data": {
      "image/png": "[encoded data removed]",
      "text/plain": [
       "<Figure size 432x288 with 1 Axes>"
      ]
     },
     "metadata": {
      "needs_background": "light"
     },
     "output_type": "display_data"
    }
   ],
   "source": [
    "sns.countplot(x='term', hue='Loan_Status', data=df, order=sorted(df['term'].unique()))"
   ]
  },
  {
   "cell_type": "code",
   "execution_count": 16,
   "id": "a007cad2",
   "metadata": {},
   "outputs": [
    {
     "data": {
      "text/plain": [
       "term\n",
       "36    0.159934\n",
       "60    0.324454\n",
       "Name: Loan_Status, dtype: float64"
      ]
     },
     "execution_count": 16,
     "metadata": {},
     "output_type": "execute_result"
    }
   ],
   "source": [
    "df.groupby('term')['Loan_Status'].value_counts(normalize=True).loc[:,0]"
   ]
  },
  {
   "cell_type": "code",
   "execution_count": 17,
   "id": "058012d6",
   "metadata": {},
   "outputs": [
    {
     "data": {
      "text/plain": [
       "count    1.345310e+06\n",
       "mean     4.179020e+01\n",
       "std      1.026832e+01\n",
       "min      3.600000e+01\n",
       "25%      3.600000e+01\n",
       "50%      3.600000e+01\n",
       "75%      3.600000e+01\n",
       "max      6.000000e+01\n",
       "Name: term, dtype: float64"
      ]
     },
     "execution_count": 17,
     "metadata": {},
     "output_type": "execute_result"
    }
   ],
   "source": [
    "df.term.describe()"
   ]
  },
  {
   "cell_type": "code",
   "execution_count": 18,
   "id": "33459ffa",
   "metadata": {},
   "outputs": [
    {
     "data": {
      "text/html": [
       "<div>\n",
       "<style scoped>\n",
       "    .dataframe tbody tr th:only-of-type {\n",
       "        vertical-align: middle;\n",
       "    }\n",
       "\n",
       "    .dataframe tbody tr th {\n",
       "        vertical-align: top;\n",
       "    }\n",
       "\n",
       "    .dataframe thead th {\n",
       "        text-align: right;\n",
       "    }\n",
       "</style>\n",
       "<table border=\"1\" class=\"dataframe\">\n",
       "  <thead>\n",
       "    <tr style=\"text-align: right;\">\n",
       "      <th></th>\n",
       "      <th>loan_amnt</th>\n",
       "      <th>term</th>\n",
       "      <th>int_rate</th>\n",
       "      <th>installment</th>\n",
       "      <th>grade</th>\n",
       "      <th>sub_grade</th>\n",
       "      <th>emp_title</th>\n",
       "      <th>emp_length</th>\n",
       "      <th>home_ownership</th>\n",
       "      <th>annual_inc</th>\n",
       "      <th>...</th>\n",
       "      <th>open_acc</th>\n",
       "      <th>pub_rec</th>\n",
       "      <th>revol_bal</th>\n",
       "      <th>revol_util</th>\n",
       "      <th>total_acc</th>\n",
       "      <th>initial_list_status</th>\n",
       "      <th>application_type</th>\n",
       "      <th>mort_acc</th>\n",
       "      <th>pub_rec_bankruptcies</th>\n",
       "      <th>Loan_Status</th>\n",
       "    </tr>\n",
       "  </thead>\n",
       "  <tbody>\n",
       "    <tr>\n",
       "      <th>0</th>\n",
       "      <td>3600.0</td>\n",
       "      <td>36</td>\n",
       "      <td>13.99</td>\n",
       "      <td>123.03</td>\n",
       "      <td>C</td>\n",
       "      <td>C4</td>\n",
       "      <td>leadman</td>\n",
       "      <td>10+ years</td>\n",
       "      <td>MORTGAGE</td>\n",
       "      <td>55000.0</td>\n",
       "      <td>...</td>\n",
       "      <td>7.0</td>\n",
       "      <td>0.0</td>\n",
       "      <td>2765.0</td>\n",
       "      <td>29.7</td>\n",
       "      <td>13.0</td>\n",
       "      <td>w</td>\n",
       "      <td>Individual</td>\n",
       "      <td>1.0</td>\n",
       "      <td>0.0</td>\n",
       "      <td>1</td>\n",
       "    </tr>\n",
       "    <tr>\n",
       "      <th>1</th>\n",
       "      <td>24700.0</td>\n",
       "      <td>36</td>\n",
       "      <td>11.99</td>\n",
       "      <td>820.28</td>\n",
       "      <td>C</td>\n",
       "      <td>C1</td>\n",
       "      <td>Engineer</td>\n",
       "      <td>10+ years</td>\n",
       "      <td>MORTGAGE</td>\n",
       "      <td>65000.0</td>\n",
       "      <td>...</td>\n",
       "      <td>22.0</td>\n",
       "      <td>0.0</td>\n",
       "      <td>21470.0</td>\n",
       "      <td>19.2</td>\n",
       "      <td>38.0</td>\n",
       "      <td>w</td>\n",
       "      <td>Individual</td>\n",
       "      <td>4.0</td>\n",
       "      <td>0.0</td>\n",
       "      <td>1</td>\n",
       "    </tr>\n",
       "    <tr>\n",
       "      <th>2</th>\n",
       "      <td>20000.0</td>\n",
       "      <td>60</td>\n",
       "      <td>10.78</td>\n",
       "      <td>432.66</td>\n",
       "      <td>B</td>\n",
       "      <td>B4</td>\n",
       "      <td>truck driver</td>\n",
       "      <td>10+ years</td>\n",
       "      <td>MORTGAGE</td>\n",
       "      <td>63000.0</td>\n",
       "      <td>...</td>\n",
       "      <td>6.0</td>\n",
       "      <td>0.0</td>\n",
       "      <td>7869.0</td>\n",
       "      <td>56.2</td>\n",
       "      <td>18.0</td>\n",
       "      <td>w</td>\n",
       "      <td>Joint App</td>\n",
       "      <td>5.0</td>\n",
       "      <td>0.0</td>\n",
       "      <td>1</td>\n",
       "    </tr>\n",
       "    <tr>\n",
       "      <th>4</th>\n",
       "      <td>10400.0</td>\n",
       "      <td>60</td>\n",
       "      <td>22.45</td>\n",
       "      <td>289.91</td>\n",
       "      <td>F</td>\n",
       "      <td>F1</td>\n",
       "      <td>Contract Specialist</td>\n",
       "      <td>3 years</td>\n",
       "      <td>MORTGAGE</td>\n",
       "      <td>104433.0</td>\n",
       "      <td>...</td>\n",
       "      <td>12.0</td>\n",
       "      <td>0.0</td>\n",
       "      <td>21929.0</td>\n",
       "      <td>64.5</td>\n",
       "      <td>35.0</td>\n",
       "      <td>w</td>\n",
       "      <td>Individual</td>\n",
       "      <td>6.0</td>\n",
       "      <td>0.0</td>\n",
       "      <td>1</td>\n",
       "    </tr>\n",
       "    <tr>\n",
       "      <th>5</th>\n",
       "      <td>11950.0</td>\n",
       "      <td>36</td>\n",
       "      <td>13.44</td>\n",
       "      <td>405.18</td>\n",
       "      <td>C</td>\n",
       "      <td>C3</td>\n",
       "      <td>Veterinary Tecnician</td>\n",
       "      <td>4 years</td>\n",
       "      <td>RENT</td>\n",
       "      <td>34000.0</td>\n",
       "      <td>...</td>\n",
       "      <td>5.0</td>\n",
       "      <td>0.0</td>\n",
       "      <td>8822.0</td>\n",
       "      <td>68.4</td>\n",
       "      <td>6.0</td>\n",
       "      <td>w</td>\n",
       "      <td>Individual</td>\n",
       "      <td>0.0</td>\n",
       "      <td>0.0</td>\n",
       "      <td>1</td>\n",
       "    </tr>\n",
       "  </tbody>\n",
       "</table>\n",
       "<p>5 rows × 28 columns</p>\n",
       "</div>"
      ],
      "text/plain": [
       "   loan_amnt  term  int_rate  installment grade sub_grade  \\\n",
       "0     3600.0    36     13.99       123.03     C        C4   \n",
       "1    24700.0    36     11.99       820.28     C        C1   \n",
       "2    20000.0    60     10.78       432.66     B        B4   \n",
       "4    10400.0    60     22.45       289.91     F        F1   \n",
       "5    11950.0    36     13.44       405.18     C        C3   \n",
       "\n",
       "              emp_title emp_length home_ownership  annual_inc  ... open_acc  \\\n",
       "0               leadman  10+ years       MORTGAGE     55000.0  ...      7.0   \n",
       "1              Engineer  10+ years       MORTGAGE     65000.0  ...     22.0   \n",
       "2          truck driver  10+ years       MORTGAGE     63000.0  ...      6.0   \n",
       "4   Contract Specialist    3 years       MORTGAGE    104433.0  ...     12.0   \n",
       "5  Veterinary Tecnician    4 years           RENT     34000.0  ...      5.0   \n",
       "\n",
       "  pub_rec revol_bal revol_util  total_acc  initial_list_status  \\\n",
       "0     0.0    2765.0       29.7       13.0                    w   \n",
       "1     0.0   21470.0       19.2       38.0                    w   \n",
       "2     0.0    7869.0       56.2       18.0                    w   \n",
       "4     0.0   21929.0       64.5       35.0                    w   \n",
       "5     0.0    8822.0       68.4        6.0                    w   \n",
       "\n",
       "   application_type mort_acc  pub_rec_bankruptcies  Loan_Status  \n",
       "0        Individual      1.0                   0.0            1  \n",
       "1        Individual      4.0                   0.0            1  \n",
       "2         Joint App      5.0                   0.0            1  \n",
       "4        Individual      6.0                   0.0            1  \n",
       "5        Individual      0.0                   0.0            1  \n",
       "\n",
       "[5 rows x 28 columns]"
      ]
     },
     "execution_count": 18,
     "metadata": {},
     "output_type": "execute_result"
    }
   ],
   "source": [
    "df.head()"
   ]
  },
  {
   "attachments": {},
   "cell_type": "markdown",
   "id": "99bdc245",
   "metadata": {},
   "source": [
    "# 3. int_rate\n",
    "lãi suất khoản vay"
   ]
  },
  {
   "cell_type": "code",
   "execution_count": 19,
   "id": "2ac740bf",
   "metadata": {
    "scrolled": true
   },
   "outputs": [
    {
     "data": {
      "text/plain": [
       "count    1.345310e+06\n",
       "mean     1.323962e+01\n",
       "std      4.768716e+00\n",
       "min      5.310000e+00\n",
       "25%      9.750000e+00\n",
       "50%      1.274000e+01\n",
       "75%      1.599000e+01\n",
       "max      3.099000e+01\n",
       "Name: int_rate, dtype: float64"
      ]
     },
     "execution_count": 19,
     "metadata": {},
     "output_type": "execute_result"
    }
   ],
   "source": [
    "df.int_rate.describe()"
   ]
  },
  {
   "cell_type": "code",
   "execution_count": 20,
   "id": "0a8fb2df",
   "metadata": {
    "scrolled": true
   },
   "outputs": [
    {
     "data": {
      "text/plain": [
       "<AxesSubplot:xlabel='Loan_Status', ylabel='int_rate'>"
      ]
     },
     "execution_count": 20,
     "metadata": {},
     "output_type": "execute_result"
    },
    {
     "data": {
      "image/png": "[encoded data removed]",
      "text/plain": [
       "<Figure size 648x360 with 1 Axes>"
      ]
     },
     "metadata": {
      "needs_background": "light"
     },
     "output_type": "display_data"
    }
   ],
   "source": [
    "plt.figure(figsize=(9,5))\n",
    "sns.boxplot(data=df, y='int_rate', x='Loan_Status')"
   ]
  },
  {
   "cell_type": "code",
   "execution_count": 21,
   "id": "47a2cd48",
   "metadata": {},
   "outputs": [
    {
     "data": {
      "text/html": [
       "<div>\n",
       "<style scoped>\n",
       "    .dataframe tbody tr th:only-of-type {\n",
       "        vertical-align: middle;\n",
       "    }\n",
       "\n",
       "    .dataframe tbody tr th {\n",
       "        vertical-align: top;\n",
       "    }\n",
       "\n",
       "    .dataframe thead th {\n",
       "        text-align: right;\n",
       "    }\n",
       "</style>\n",
       "<table border=\"1\" class=\"dataframe\">\n",
       "  <thead>\n",
       "    <tr style=\"text-align: right;\">\n",
       "      <th></th>\n",
       "      <th>count</th>\n",
       "      <th>mean</th>\n",
       "      <th>std</th>\n",
       "      <th>min</th>\n",
       "      <th>25%</th>\n",
       "      <th>50%</th>\n",
       "      <th>75%</th>\n",
       "      <th>max</th>\n",
       "    </tr>\n",
       "    <tr>\n",
       "      <th>Loan_Status</th>\n",
       "      <th></th>\n",
       "      <th></th>\n",
       "      <th></th>\n",
       "      <th></th>\n",
       "      <th></th>\n",
       "      <th></th>\n",
       "      <th></th>\n",
       "      <th></th>\n",
       "    </tr>\n",
       "  </thead>\n",
       "  <tbody>\n",
       "    <tr>\n",
       "      <th>0</th>\n",
       "      <td>268559.0</td>\n",
       "      <td>15.710714</td>\n",
       "      <td>4.910387</td>\n",
       "      <td>5.31</td>\n",
       "      <td>12.29</td>\n",
       "      <td>15.05</td>\n",
       "      <td>18.55</td>\n",
       "      <td>30.99</td>\n",
       "    </tr>\n",
       "    <tr>\n",
       "      <th>1</th>\n",
       "      <td>1076751.0</td>\n",
       "      <td>12.623288</td>\n",
       "      <td>4.527227</td>\n",
       "      <td>5.31</td>\n",
       "      <td>9.17</td>\n",
       "      <td>12.23</td>\n",
       "      <td>15.31</td>\n",
       "      <td>30.99</td>\n",
       "    </tr>\n",
       "  </tbody>\n",
       "</table>\n",
       "</div>"
      ],
      "text/plain": [
       "                 count       mean       std   min    25%    50%    75%    max\n",
       "Loan_Status                                                                  \n",
       "0             268559.0  15.710714  4.910387  5.31  12.29  15.05  18.55  30.99\n",
       "1            1076751.0  12.623288  4.527227  5.31   9.17  12.23  15.31  30.99"
      ]
     },
     "execution_count": 21,
     "metadata": {},
     "output_type": "execute_result"
    }
   ],
   "source": [
    "df.groupby('Loan_Status')['int_rate'].describe()"
   ]
  },
  {
   "cell_type": "raw",
   "id": "f9c2f261",
   "metadata": {},
   "source": [
    "lai suat cao -> charged off cao"
   ]
  },
  {
   "cell_type": "code",
   "execution_count": 22,
   "id": "0845cc1f",
   "metadata": {},
   "outputs": [
    {
     "data": {
      "text/plain": [
       "<AxesSubplot:>"
      ]
     },
     "execution_count": 22,
     "metadata": {},
     "output_type": "execute_result"
    },
    {
     "data": {
      "image/png": "[encoded data removed]",
      "text/plain": [
       "<Figure size 720x720 with 1 Axes>"
      ]
     },
     "metadata": {
      "needs_background": "light"
     },
     "output_type": "display_data"
    }
   ],
   "source": [
    "df['int_rate'].plot(kind='box', figsize=(10, 10))"
   ]
  },
  {
   "cell_type": "code",
   "execution_count": 23,
   "id": "a327324c",
   "metadata": {},
   "outputs": [],
   "source": [
    "#xử lý ngoại lai\n",
    "q1 = df['int_rate'].quantile(0.25) # Tính Q1\n",
    "q3 = df['int_rate'].quantile(0.75) # Tính Q3\n",
    "\n",
    "iqr = q3 - q1\n",
    "\n",
    "upper = q3 + 1.5*iqr\n",
    "lower = q1 - 1.5*iqr"
   ]
  },
  {
   "cell_type": "code",
   "execution_count": 24,
   "id": "8d77aa28",
   "metadata": {},
   "outputs": [],
   "source": [
    "df = df[(lower < df['int_rate']) & (df['int_rate'] < upper)]"
   ]
  },
  {
   "cell_type": "code",
   "execution_count": 25,
   "id": "320aa6a3",
   "metadata": {},
   "outputs": [
    {
     "data": {
      "text/plain": [
       "(1320333, 28)"
      ]
     },
     "execution_count": 25,
     "metadata": {},
     "output_type": "execute_result"
    }
   ],
   "source": [
    "df.shape"
   ]
  },
  {
   "attachments": {},
   "cell_type": "markdown",
   "id": "2d49f56e",
   "metadata": {},
   "source": [
    "# 4. installment\n",
    "khoản tiền phải trả mỗi tháng nếu người vay muốn vay"
   ]
  },
  {
   "cell_type": "code",
   "execution_count": 26,
   "id": "f9215ca7",
   "metadata": {},
   "outputs": [
    {
     "data": {
      "text/plain": [
       "count    1.320333e+06\n",
       "mean     4.344403e+02\n",
       "std      2.593900e+02\n",
       "min      4.930000e+00\n",
       "25%      2.468000e+02\n",
       "50%      3.721200e+02\n",
       "75%      5.742800e+02\n",
       "max      1.587230e+03\n",
       "Name: installment, dtype: float64"
      ]
     },
     "execution_count": 26,
     "metadata": {},
     "output_type": "execute_result"
    }
   ],
   "source": [
    "df.installment.describe()"
   ]
  },
  {
   "cell_type": "code",
   "execution_count": 27,
   "id": "c82ee769",
   "metadata": {},
   "outputs": [
    {
     "data": {
      "text/plain": [
       "<AxesSubplot:xlabel='Loan_Status', ylabel='installment'>"
      ]
     },
     "execution_count": 27,
     "metadata": {},
     "output_type": "execute_result"
    },
    {
     "data": {
      "image/png": "[encoded data removed]",
      "text/plain": [
       "<Figure size 432x288 with 1 Axes>"
      ]
     },
     "metadata": {
      "needs_background": "light"
     },
     "output_type": "display_data"
    }
   ],
   "source": [
    "sns.boxplot(data=df, y='installment', x='Loan_Status')"
   ]
  },
  {
   "cell_type": "code",
   "execution_count": 28,
   "id": "9360df3b",
   "metadata": {},
   "outputs": [
    {
     "data": {
      "text/html": [
       "<div>\n",
       "<style scoped>\n",
       "    .dataframe tbody tr th:only-of-type {\n",
       "        vertical-align: middle;\n",
       "    }\n",
       "\n",
       "    .dataframe tbody tr th {\n",
       "        vertical-align: top;\n",
       "    }\n",
       "\n",
       "    .dataframe thead th {\n",
       "        text-align: right;\n",
       "    }\n",
       "</style>\n",
       "<table border=\"1\" class=\"dataframe\">\n",
       "  <thead>\n",
       "    <tr style=\"text-align: right;\">\n",
       "      <th></th>\n",
       "      <th>count</th>\n",
       "      <th>mean</th>\n",
       "      <th>std</th>\n",
       "      <th>min</th>\n",
       "      <th>25%</th>\n",
       "      <th>50%</th>\n",
       "      <th>75%</th>\n",
       "      <th>max</th>\n",
       "    </tr>\n",
       "    <tr>\n",
       "      <th>Loan_Status</th>\n",
       "      <th></th>\n",
       "      <th></th>\n",
       "      <th></th>\n",
       "      <th></th>\n",
       "      <th></th>\n",
       "      <th></th>\n",
       "      <th></th>\n",
       "      <th></th>\n",
       "    </tr>\n",
       "  </thead>\n",
       "  <tbody>\n",
       "    <tr>\n",
       "      <th>0</th>\n",
       "      <td>256598.0</td>\n",
       "      <td>456.968374</td>\n",
       "      <td>258.401406</td>\n",
       "      <td>21.62</td>\n",
       "      <td>271.45</td>\n",
       "      <td>395.66</td>\n",
       "      <td>592.95</td>\n",
       "      <td>1587.23</td>\n",
       "    </tr>\n",
       "    <tr>\n",
       "      <th>1</th>\n",
       "      <td>1063735.0</td>\n",
       "      <td>429.006008</td>\n",
       "      <td>259.335256</td>\n",
       "      <td>4.93</td>\n",
       "      <td>240.05</td>\n",
       "      <td>366.37</td>\n",
       "      <td>568.71</td>\n",
       "      <td>1587.23</td>\n",
       "    </tr>\n",
       "  </tbody>\n",
       "</table>\n",
       "</div>"
      ],
      "text/plain": [
       "                 count        mean         std    min     25%     50%     75%  \\\n",
       "Loan_Status                                                                     \n",
       "0             256598.0  456.968374  258.401406  21.62  271.45  395.66  592.95   \n",
       "1            1063735.0  429.006008  259.335256   4.93  240.05  366.37  568.71   \n",
       "\n",
       "                 max  \n",
       "Loan_Status           \n",
       "0            1587.23  \n",
       "1            1587.23  "
      ]
     },
     "execution_count": 28,
     "metadata": {},
     "output_type": "execute_result"
    }
   ],
   "source": [
    "df.groupby('Loan_Status')['installment'].describe()"
   ]
  },
  {
   "cell_type": "code",
   "execution_count": 29,
   "id": "546e4991",
   "metadata": {},
   "outputs": [],
   "source": [
    "q1 = df['installment'].quantile(0.25) # Tính Q1\n",
    "q3 = df['installment'].quantile(0.75) # Tính Q3\n",
    "\n",
    "iqr = q3 - q1\n",
    "\n",
    "upper = q3 + 1.5*iqr\n",
    "lower = q1 - 1.5*iqr"
   ]
  },
  {
   "cell_type": "code",
   "execution_count": 30,
   "id": "dcffc242",
   "metadata": {},
   "outputs": [],
   "source": [
    "df = df[(lower < df['installment']) & (df['installment'] < upper)]"
   ]
  },
  {
   "cell_type": "code",
   "execution_count": 31,
   "id": "3032fa6f",
   "metadata": {
    "scrolled": true
   },
   "outputs": [
    {
     "name": "stdout",
     "output_type": "stream",
     "text": [
      "<class 'pandas.core.frame.DataFrame'>\n",
      "Int64Index: 1278308 entries, 0 to 2260697\n",
      "Data columns (total 28 columns):\n",
      " #   Column                Non-Null Count    Dtype  \n",
      "---  ------                --------------    -----  \n",
      " 0   loan_amnt             1278308 non-null  float64\n",
      " 1   term                  1278308 non-null  int64  \n",
      " 2   int_rate              1278308 non-null  float64\n",
      " 3   installment           1278308 non-null  float64\n",
      " 4   grade                 1278308 non-null  object \n",
      " 5   sub_grade             1278308 non-null  object \n",
      " 6   emp_title             1195692 non-null  object \n",
      " 7   emp_length            1202481 non-null  object \n",
      " 8   home_ownership        1278308 non-null  object \n",
      " 9   annual_inc            1278308 non-null  float64\n",
      " 10  verification_status   1278308 non-null  object \n",
      " 11  issue_d               1278308 non-null  object \n",
      " 12  purpose               1278308 non-null  object \n",
      " 13  title                 1262589 non-null  object \n",
      " 14  dti                   1277983 non-null  float64\n",
      " 15  fico_range_low        1278308 non-null  float64\n",
      " 16  fico_range_high       1278308 non-null  float64\n",
      " 17  earliest_cr_line      1278308 non-null  object \n",
      " 18  open_acc              1278308 non-null  float64\n",
      " 19  pub_rec               1278308 non-null  float64\n",
      " 20  revol_bal             1278308 non-null  float64\n",
      " 21  revol_util            1277516 non-null  float64\n",
      " 22  total_acc             1278308 non-null  float64\n",
      " 23  initial_list_status   1278308 non-null  object \n",
      " 24  application_type      1278308 non-null  object \n",
      " 25  mort_acc              1231421 non-null  float64\n",
      " 26  pub_rec_bankruptcies  1277611 non-null  float64\n",
      " 27  Loan_Status           1278308 non-null  int64  \n",
      "dtypes: float64(14), int64(2), object(12)\n",
      "memory usage: 282.8+ MB\n"
     ]
    }
   ],
   "source": [
    "df.info()"
   ]
  },
  {
   "attachments": {},
   "cell_type": "markdown",
   "id": "b401247c",
   "metadata": {},
   "source": [
    "# 5. grade, sub_grade\n",
    "Hạng vay được gán bởi Lending Club"
   ]
  },
  {
   "cell_type": "code",
   "execution_count": 32,
   "id": "48579d96",
   "metadata": {},
   "outputs": [
    {
     "data": {
      "text/plain": [
       "<AxesSubplot:xlabel='grade', ylabel='count'>"
      ]
     },
     "execution_count": 32,
     "metadata": {},
     "output_type": "execute_result"
    },
    {
     "data": {
      "image/png": "[encoded data removed]",
      "text/plain": [
       "<Figure size 432x288 with 1 Axes>"
      ]
     },
     "metadata": {
      "needs_background": "light"
     },
     "output_type": "display_data"
    }
   ],
   "source": [
    "sns.countplot(x='grade', hue='Loan_Status', data=df, order=sorted(df['grade'].unique()))"
   ]
  },
  {
   "cell_type": "code",
   "execution_count": 33,
   "id": "e3713ad5",
   "metadata": {},
   "outputs": [
    {
     "data": {
      "text/plain": [
       "<AxesSubplot:xlabel='sub_grade', ylabel='count'>"
      ]
     },
     "execution_count": 33,
     "metadata": {},
     "output_type": "execute_result"
    },
    {
     "data": {
      "image/png": "[encoded data removed]",
      "text/plain": [
       "<Figure size 432x288 with 1 Axes>"
      ]
     },
     "metadata": {
      "needs_background": "light"
     },
     "output_type": "display_data"
    }
   ],
   "source": [
    "sns.countplot(x='sub_grade', hue='Loan_Status', data=df, order=sorted(df['sub_grade'].unique()))"
   ]
  },
  {
   "cell_type": "code",
   "execution_count": 34,
   "id": "b995db6d",
   "metadata": {},
   "outputs": [],
   "source": [
    "# grade la tong quat cua sub_grade -> bo grade\n",
    "df = df.drop('grade', axis = 1)\n"
   ]
  },
  {
   "cell_type": "code",
   "execution_count": 35,
   "id": "56290f49",
   "metadata": {},
   "outputs": [
    {
     "data": {
      "text/plain": [
       "(1278308, 27)"
      ]
     },
     "execution_count": 35,
     "metadata": {},
     "output_type": "execute_result"
    }
   ],
   "source": [
    "df.shape"
   ]
  },
  {
   "attachments": {},
   "cell_type": "markdown",
   "id": "300234e8",
   "metadata": {},
   "source": [
    "# 6. emp_title, emp_length\n",
    "nghề nghiệp và thời gian làm việc của người vay"
   ]
  },
  {
   "cell_type": "code",
   "execution_count": 36,
   "id": "68f7801e",
   "metadata": {},
   "outputs": [
    {
     "data": {
      "text/plain": [
       "count     1195692\n",
       "unique     365021\n",
       "top       Teacher\n",
       "freq        20440\n",
       "Name: emp_title, dtype: object"
      ]
     },
     "execution_count": 36,
     "metadata": {},
     "output_type": "execute_result"
    }
   ],
   "source": [
    "df.emp_title.describe()"
   ]
  },
  {
   "cell_type": "raw",
   "id": "26222d78",
   "metadata": {},
   "source": [
    "co nhieu nganh nghe khac nhau -> nhieu du lieu"
   ]
  },
  {
   "cell_type": "code",
   "execution_count": 37,
   "id": "41f86e7c",
   "metadata": {},
   "outputs": [],
   "source": [
    "df = df.drop('emp_title', axis =1)"
   ]
  },
  {
   "cell_type": "code",
   "execution_count": 38,
   "id": "c71a5234",
   "metadata": {},
   "outputs": [
    {
     "data": {
      "text/plain": [
       "count       1202481\n",
       "unique           11\n",
       "top       10+ years\n",
       "freq         416932\n",
       "Name: emp_length, dtype: object"
      ]
     },
     "execution_count": 38,
     "metadata": {},
     "output_type": "execute_result"
    }
   ],
   "source": [
    "df.emp_length.describe()"
   ]
  },
  {
   "cell_type": "code",
   "execution_count": 39,
   "id": "57bc3ed5",
   "metadata": {},
   "outputs": [
    {
     "data": {
      "text/plain": [
       "<AxesSubplot:xlabel='emp_length', ylabel='count'>"
      ]
     },
     "execution_count": 39,
     "metadata": {},
     "output_type": "execute_result"
    },
    {
     "data": {
      "image/png": "[encoded data removed]",
      "text/plain": [
       "<Figure size 432x288 with 1 Axes>"
      ]
     },
     "metadata": {
      "needs_background": "light"
     },
     "output_type": "display_data"
    }
   ],
   "source": [
    "sns.countplot(x='emp_length', hue='Loan_Status', data=df)"
   ]
  },
  {
   "cell_type": "code",
   "execution_count": 40,
   "id": "5d220ef8",
   "metadata": {},
   "outputs": [
    {
     "name": "stdout",
     "output_type": "stream",
     "text": [
      "10+ years years in this position:\n",
      "1    0.817416\n",
      "0    0.182584\n",
      "Name: Loan_Status, dtype: float64\n",
      "3 years years in this position:\n",
      "1    0.806345\n",
      "0    0.193655\n",
      "Name: Loan_Status, dtype: float64\n",
      "4 years years in this position:\n",
      "1    0.808914\n",
      "0    0.191086\n",
      "Name: Loan_Status, dtype: float64\n",
      "6 years years in this position:\n",
      "1    0.812043\n",
      "0    0.187957\n",
      "Name: Loan_Status, dtype: float64\n",
      "7 years years in this position:\n",
      "1    0.809066\n",
      "0    0.190934\n",
      "Name: Loan_Status, dtype: float64\n",
      "8 years years in this position:\n",
      "1    0.806142\n",
      "0    0.193858\n",
      "Name: Loan_Status, dtype: float64\n",
      "2 years years in this position:\n",
      "1    0.807953\n",
      "0    0.192047\n",
      "Name: Loan_Status, dtype: float64\n",
      "5 years years in this position:\n",
      "1    0.810234\n",
      "0    0.189766\n",
      "Name: Loan_Status, dtype: float64\n",
      "9 years years in this position:\n",
      "1    0.806446\n",
      "0    0.193554\n",
      "Name: Loan_Status, dtype: float64\n",
      "< 1 year years in this position:\n",
      "1    0.800076\n",
      "0    0.199924\n",
      "Name: Loan_Status, dtype: float64\n",
      "1 year years in this position:\n",
      "1    0.800782\n",
      "0    0.199218\n",
      "Name: Loan_Status, dtype: float64\n",
      "nan years in this position:\n",
      "Series([], Name: Loan_Status, dtype: float64)\n"
     ]
    }
   ],
   "source": [
    "for year in df.emp_length.unique():\n",
    "    print(f\"{year} years in this position:\")\n",
    "    print(f\"{df[df.emp_length == year].Loan_Status.value_counts(normalize=True)}\")"
   ]
  },
  {
   "cell_type": "raw",
   "id": "ef0290b8",
   "metadata": {},
   "source": [
    "ti le charged off va fully paid khong chenh lech qua nhieu\n",
    "-> bo emp_length"
   ]
  },
  {
   "cell_type": "code",
   "execution_count": 41,
   "id": "50bf03a7",
   "metadata": {},
   "outputs": [],
   "source": [
    "df = df.drop('emp_length', axis = 1)"
   ]
  },
  {
   "cell_type": "code",
   "execution_count": 42,
   "id": "751a6908",
   "metadata": {},
   "outputs": [
    {
     "data": {
      "text/plain": [
       "(1278308, 25)"
      ]
     },
     "execution_count": 42,
     "metadata": {},
     "output_type": "execute_result"
    }
   ],
   "source": [
    "df.shape"
   ]
  },
  {
   "attachments": {},
   "cell_type": "markdown",
   "id": "e24d6641",
   "metadata": {},
   "source": [
    "# 7. home_ownership\n",
    "trạng thái sở hữu nhà mà người vay cung cấp trong quá trình đăng ký"
   ]
  },
  {
   "cell_type": "code",
   "execution_count": 43,
   "id": "a2369d7e",
   "metadata": {},
   "outputs": [
    {
     "data": {
      "text/plain": [
       "MORTGAGE    627493\n",
       "RENT        513107\n",
       "OWN         137255\n",
       "ANY            265\n",
       "OTHER          142\n",
       "NONE            46\n",
       "Name: home_ownership, dtype: int64"
      ]
     },
     "execution_count": 43,
     "metadata": {},
     "output_type": "execute_result"
    }
   ],
   "source": [
    "df['home_ownership'].value_counts()"
   ]
  },
  {
   "cell_type": "code",
   "execution_count": 44,
   "id": "40c7898a",
   "metadata": {},
   "outputs": [
    {
     "data": {
      "text/plain": [
       "<AxesSubplot:xlabel='home_ownership', ylabel='count'>"
      ]
     },
     "execution_count": 44,
     "metadata": {},
     "output_type": "execute_result"
    },
    {
     "data": {
      "image/png": "[encoded data removed]",
      "text/plain": [
       "<Figure size 432x288 with 1 Axes>"
      ]
     },
     "metadata": {
      "needs_background": "light"
     },
     "output_type": "display_data"
    }
   ],
   "source": [
    "df.loc[(df.home_ownership == 'ANY') | (df.home_ownership == 'NONE'), 'home_ownership'] = 'OTHER'\n",
    "sns.countplot(x='home_ownership', hue='Loan_Status', data=df, order=sorted(df['home_ownership'].unique()))"
   ]
  },
  {
   "cell_type": "code",
   "execution_count": 45,
   "id": "265db933",
   "metadata": {},
   "outputs": [
    {
     "data": {
      "text/plain": [
       "1    371\n",
       "0     82\n",
       "Name: Loan_Status, dtype: int64"
      ]
     },
     "execution_count": 45,
     "metadata": {},
     "output_type": "execute_result"
    }
   ],
   "source": [
    "df.loc[df['home_ownership']=='OTHER', 'Loan_Status'].value_counts()"
   ]
  },
  {
   "cell_type": "code",
   "execution_count": 46,
   "id": "45a66905",
   "metadata": {},
   "outputs": [
    {
     "data": {
      "text/plain": [
       "home_ownership  Loan_Status\n",
       "MORTGAGE        1              0.832557\n",
       "                0              0.167443\n",
       "OTHER           1              0.818985\n",
       "                0              0.181015\n",
       "OWN             1              0.800036\n",
       "                0              0.199964\n",
       "RENT            1              0.774786\n",
       "                0              0.225214\n",
       "Name: Loan_Status, dtype: float64"
      ]
     },
     "execution_count": 46,
     "metadata": {},
     "output_type": "execute_result"
    }
   ],
   "source": [
    "df.groupby('home_ownership')['Loan_Status'].value_counts(normalize=True)"
   ]
  },
  {
   "cell_type": "raw",
   "id": "f12f4c47",
   "metadata": {},
   "source": [
    "biến không có ích cho mô hình -> bỏ"
   ]
  },
  {
   "cell_type": "code",
   "execution_count": 47,
   "id": "d129f481",
   "metadata": {},
   "outputs": [],
   "source": [
    "df = df.drop('home_ownership', axis = 1)"
   ]
  },
  {
   "attachments": {},
   "cell_type": "markdown",
   "id": "f7510d86",
   "metadata": {},
   "source": [
    "# 8.annual_inc\n",
    "thu nhập hàng năm do người vay cung cấp"
   ]
  },
  {
   "cell_type": "code",
   "execution_count": 48,
   "id": "b2944082",
   "metadata": {},
   "outputs": [
    {
     "data": {
      "text/plain": [
       "count    1.278308e+06\n",
       "mean     7.401365e+04\n",
       "std      6.661501e+04\n",
       "min      0.000000e+00\n",
       "25%      4.500000e+04\n",
       "50%      6.400000e+04\n",
       "75%      9.000000e+04\n",
       "max      1.099920e+07\n",
       "Name: annual_inc, dtype: float64"
      ]
     },
     "execution_count": 48,
     "metadata": {},
     "output_type": "execute_result"
    }
   ],
   "source": [
    "df.annual_inc.describe()"
   ]
  },
  {
   "cell_type": "code",
   "execution_count": 49,
   "id": "36e4d786",
   "metadata": {},
   "outputs": [
    {
     "data": {
      "text/plain": [
       "0"
      ]
     },
     "execution_count": 49,
     "metadata": {},
     "output_type": "execute_result"
    }
   ],
   "source": [
    "df.annual_inc.isna().sum()"
   ]
  },
  {
   "cell_type": "code",
   "execution_count": 50,
   "id": "43ec3043",
   "metadata": {},
   "outputs": [],
   "source": [
    "df = df.dropna(subset=['annual_inc'])"
   ]
  },
  {
   "cell_type": "code",
   "execution_count": 51,
   "id": "9bb2ded7",
   "metadata": {},
   "outputs": [
    {
     "data": {
      "text/plain": [
       "0"
      ]
     },
     "execution_count": 51,
     "metadata": {},
     "output_type": "execute_result"
    }
   ],
   "source": [
    "df.annual_inc.isna().sum()"
   ]
  },
  {
   "cell_type": "raw",
   "id": "57cba96a",
   "metadata": {},
   "source": [
    "annual_inc là biến do người vay tự cung cấp -> không đáng tin -> bỏ"
   ]
  },
  {
   "cell_type": "code",
   "execution_count": 52,
   "id": "5c7df160",
   "metadata": {},
   "outputs": [],
   "source": [
    "df = df.drop('annual_inc', axis =1 )"
   ]
  },
  {
   "attachments": {},
   "cell_type": "markdown",
   "id": "67f70c89",
   "metadata": {},
   "source": [
    "# 9. vertification_status\n",
    "trạng thái xác nhận thu nhập của người vay "
   ]
  },
  {
   "cell_type": "code",
   "execution_count": 53,
   "id": "f72a6215",
   "metadata": {},
   "outputs": [
    {
     "data": {
      "text/plain": [
       "Source Verified    495712\n",
       "Not Verified       401325\n",
       "Verified           381271\n",
       "Name: verification_status, dtype: int64"
      ]
     },
     "execution_count": 53,
     "metadata": {},
     "output_type": "execute_result"
    }
   ],
   "source": [
    "df.verification_status.value_counts()"
   ]
  },
  {
   "cell_type": "code",
   "execution_count": 54,
   "id": "6d6c7045",
   "metadata": {},
   "outputs": [
    {
     "data": {
      "text/plain": [
       "<AxesSubplot:xlabel='verification_status', ylabel='count'>"
      ]
     },
     "execution_count": 54,
     "metadata": {},
     "output_type": "execute_result"
    },
    {
     "data": {
      "image/png": "[encoded data removed]",
      "text/plain": [
       "<Figure size 432x288 with 1 Axes>"
      ]
     },
     "metadata": {
      "needs_background": "light"
     },
     "output_type": "display_data"
    }
   ],
   "source": [
    "sns.countplot(data=df, x='verification_status', hue='Loan_Status')"
   ]
  },
  {
   "cell_type": "code",
   "execution_count": 55,
   "id": "47a9703e",
   "metadata": {},
   "outputs": [],
   "source": [
    "def ChangeVerInt(x):\n",
    "    if x=='Not Verified':\n",
    "        return 0\n",
    "    else: \n",
    "        return 1\n",
    "df['Ver_status']=df['verification_status'].apply(ChangeVerInt)"
   ]
  },
  {
   "cell_type": "code",
   "execution_count": 56,
   "id": "dbe0ebe2",
   "metadata": {},
   "outputs": [
    {
     "data": {
      "text/plain": [
       "<AxesSubplot:xlabel='Ver_status', ylabel='count'>"
      ]
     },
     "execution_count": 56,
     "metadata": {},
     "output_type": "execute_result"
    },
    {
     "data": {
      "image/png": "[encoded data removed]",
      "text/plain": [
       "<Figure size 432x288 with 1 Axes>"
      ]
     },
     "metadata": {
      "needs_background": "light"
     },
     "output_type": "display_data"
    }
   ],
   "source": [
    "sns.countplot(data=df, x='Ver_status', hue='Loan_Status')"
   ]
  },
  {
   "cell_type": "code",
   "execution_count": 57,
   "id": "62d05bb0",
   "metadata": {},
   "outputs": [],
   "source": [
    "df = df.drop('verification_status',axis=1)"
   ]
  },
  {
   "cell_type": "code",
   "execution_count": 58,
   "id": "3d259ce0",
   "metadata": {},
   "outputs": [
    {
     "name": "stdout",
     "output_type": "stream",
     "text": [
      "<class 'pandas.core.frame.DataFrame'>\n",
      "Int64Index: 1278308 entries, 0 to 2260697\n",
      "Data columns (total 23 columns):\n",
      " #   Column                Non-Null Count    Dtype  \n",
      "---  ------                --------------    -----  \n",
      " 0   loan_amnt             1278308 non-null  float64\n",
      " 1   term                  1278308 non-null  int64  \n",
      " 2   int_rate              1278308 non-null  float64\n",
      " 3   installment           1278308 non-null  float64\n",
      " 4   sub_grade             1278308 non-null  object \n",
      " 5   issue_d               1278308 non-null  object \n",
      " 6   purpose               1278308 non-null  object \n",
      " 7   title                 1262589 non-null  object \n",
      " 8   dti                   1277983 non-null  float64\n",
      " 9   fico_range_low        1278308 non-null  float64\n",
      " 10  fico_range_high       1278308 non-null  float64\n",
      " 11  earliest_cr_line      1278308 non-null  object \n",
      " 12  open_acc              1278308 non-null  float64\n",
      " 13  pub_rec               1278308 non-null  float64\n",
      " 14  revol_bal             1278308 non-null  float64\n",
      " 15  revol_util            1277516 non-null  float64\n",
      " 16  total_acc             1278308 non-null  float64\n",
      " 17  initial_list_status   1278308 non-null  object \n",
      " 18  application_type      1278308 non-null  object \n",
      " 19  mort_acc              1231421 non-null  float64\n",
      " 20  pub_rec_bankruptcies  1277611 non-null  float64\n",
      " 21  Loan_Status           1278308 non-null  int64  \n",
      " 22  Ver_status            1278308 non-null  int64  \n",
      "dtypes: float64(13), int64(3), object(7)\n",
      "memory usage: 234.1+ MB\n"
     ]
    }
   ],
   "source": [
    "df.info()"
   ]
  },
  {
   "attachments": {},
   "cell_type": "markdown",
   "id": "5defa43d",
   "metadata": {},
   "source": [
    "# 10.issue_d\n",
    "Thời gian mà khoản vay được cấp"
   ]
  },
  {
   "cell_type": "code",
   "execution_count": 59,
   "id": "4f95aef2",
   "metadata": {},
   "outputs": [
    {
     "data": {
      "text/plain": [
       "count      1278308\n",
       "unique         139\n",
       "top       Mar-2016\n",
       "freq         46350\n",
       "Name: issue_d, dtype: object"
      ]
     },
     "execution_count": 59,
     "metadata": {},
     "output_type": "execute_result"
    }
   ],
   "source": [
    "df.issue_d.describe()"
   ]
  },
  {
   "cell_type": "raw",
   "id": "acc4bba5",
   "metadata": {},
   "source": [
    "issue_d la thang khoan vay duoc funded -> khong giup ich "
   ]
  },
  {
   "cell_type": "code",
   "execution_count": 60,
   "id": "24a773d9",
   "metadata": {},
   "outputs": [],
   "source": [
    "df = df.drop('issue_d',axis=1)"
   ]
  },
  {
   "cell_type": "code",
   "execution_count": 61,
   "id": "94c56de2",
   "metadata": {},
   "outputs": [
    {
     "data": {
      "text/plain": [
       "(1278308, 22)"
      ]
     },
     "execution_count": 61,
     "metadata": {},
     "output_type": "execute_result"
    }
   ],
   "source": [
    "df.shape"
   ]
  },
  {
   "attachments": {},
   "cell_type": "markdown",
   "id": "ac5b33c3",
   "metadata": {},
   "source": [
    "# 11. purpose \n",
    "lý do vay theo người vay cung cấp"
   ]
  },
  {
   "cell_type": "code",
   "execution_count": 62,
   "id": "706d7aab",
   "metadata": {
    "scrolled": true
   },
   "outputs": [
    {
     "data": {
      "text/plain": [
       "debt_consolidation    738727\n",
       "credit_card           283951\n",
       "home_improvement       82601\n",
       "other                  74090\n",
       "major_purchase         27997\n",
       "medical                15065\n",
       "car                    14323\n",
       "small_business         13643\n",
       "moving                  9128\n",
       "vacation                8917\n",
       "house                   6390\n",
       "wedding                 2265\n",
       "renewable_energy         885\n",
       "educational              326\n",
       "Name: purpose, dtype: int64"
      ]
     },
     "execution_count": 62,
     "metadata": {},
     "output_type": "execute_result"
    }
   ],
   "source": [
    "df['purpose'].value_counts()"
   ]
  },
  {
   "cell_type": "raw",
   "id": "1d0864c1",
   "metadata": {},
   "source": []
  },
  {
   "cell_type": "code",
   "execution_count": 63,
   "id": "f52d91aa",
   "metadata": {},
   "outputs": [],
   "source": [
    "def ChangePurposeInt(x):\n",
    "    if x=='debt_consolidation':\n",
    "        return  0\n",
    "    else:\n",
    "        return 1\n",
    "df['purpose']=df['purpose'].apply(ChangePurposeInt)"
   ]
  },
  {
   "cell_type": "code",
   "execution_count": 64,
   "id": "10265bf6",
   "metadata": {},
   "outputs": [
    {
     "data": {
      "text/plain": [
       "0    738727\n",
       "1    539581\n",
       "Name: purpose, dtype: int64"
      ]
     },
     "execution_count": 64,
     "metadata": {},
     "output_type": "execute_result"
    }
   ],
   "source": [
    "df['purpose'].value_counts()"
   ]
  },
  {
   "attachments": {},
   "cell_type": "markdown",
   "id": "5b3a9230",
   "metadata": {},
   "source": [
    "# 12. title"
   ]
  },
  {
   "cell_type": "code",
   "execution_count": 65,
   "id": "84ccb803",
   "metadata": {},
   "outputs": [
    {
     "data": {
      "text/plain": [
       "Debt consolidation             622469\n",
       "Credit card refinancing        239481\n",
       "Home improvement                70516\n",
       "Other                           63197\n",
       "Major purchase                  22682\n",
       "                                ...  \n",
       "ezpay                               1\n",
       "Goal: Debt Free                     1\n",
       "New Loan App.                       1\n",
       "Card Freedom Loan                   1\n",
       "debt reduction/hone updates         1\n",
       "Name: title, Length: 60737, dtype: int64"
      ]
     },
     "execution_count": 65,
     "metadata": {},
     "output_type": "execute_result"
    }
   ],
   "source": [
    "df.title.value_counts()"
   ]
  },
  {
   "cell_type": "raw",
   "id": "0522999e",
   "metadata": {},
   "source": [
    "qua nhieu du lieu cheat -> bo"
   ]
  },
  {
   "cell_type": "code",
   "execution_count": 66,
   "id": "491e4d1c",
   "metadata": {},
   "outputs": [],
   "source": [
    "df = df.drop('title', axis = 1)"
   ]
  },
  {
   "attachments": {},
   "cell_type": "markdown",
   "id": "39086df8",
   "metadata": {},
   "source": [
    "# 13. dti\n",
    "tỉ lệ số tiền trả nợ trên tổng thu nhập"
   ]
  },
  {
   "cell_type": "code",
   "execution_count": 67,
   "id": "6276b6a8",
   "metadata": {},
   "outputs": [
    {
     "data": {
      "text/plain": [
       "count    1.277983e+06\n",
       "mean     1.821040e+01\n",
       "std      1.066314e+01\n",
       "min     -1.000000e+00\n",
       "25%      1.176000e+01\n",
       "50%      1.756000e+01\n",
       "75%      2.399000e+01\n",
       "max      9.990000e+02\n",
       "Name: dti, dtype: float64"
      ]
     },
     "execution_count": 67,
     "metadata": {},
     "output_type": "execute_result"
    }
   ],
   "source": [
    "df.dti.describe()"
   ]
  },
  {
   "cell_type": "code",
   "execution_count": 68,
   "id": "78169b06",
   "metadata": {},
   "outputs": [
    {
     "name": "stderr",
     "output_type": "stream",
     "text": [
      "/Users/truongduchoa/opt/anaconda3/lib/python3.9/site-packages/seaborn/distributions.py:2619: FutureWarning: `distplot` is a deprecated function and will be removed in a future version. Please adapt your code to use either `displot` (a figure-level function with similar flexibility) or `histplot` (an axes-level function for histograms).\n",
      "  warnings.warn(msg, FutureWarning)\n"
     ]
    },
    {
     "data": {
      "text/plain": [
       "Text(0.5, 1.0, 'Debt-to-income Ratio')"
      ]
     },
     "execution_count": 68,
     "metadata": {},
     "output_type": "execute_result"
    },
    {
     "data": {
      "image/png": "[encoded data removed]",
      "text/plain": [
       "<Figure size 432x288 with 1 Axes>"
      ]
     },
     "metadata": {
      "needs_background": "light"
     },
     "output_type": "display_data"
    }
   ],
   "source": [
    "sns.distplot(df.loc[df['dti'].notnull() & (df['dti']<65), 'dti'], kde=False)\n",
    "plt.title('Debt-to-income Ratio')"
   ]
  },
  {
   "cell_type": "code",
   "execution_count": 69,
   "id": "d69ca96c",
   "metadata": {},
   "outputs": [],
   "source": [
    "q1 = df['dti'].quantile(0.25) # Tính Q1\n",
    "q3 = df['dti'].quantile(0.75) # Tính Q3\n",
    "\n",
    "iqr = q3 - q1\n",
    "\n",
    "upper = q3 + 1.5*iqr\n",
    "lower = q1 - 1.5*iqr"
   ]
  },
  {
   "cell_type": "code",
   "execution_count": 70,
   "id": "a774135c",
   "metadata": {},
   "outputs": [],
   "source": [
    "df = df[(lower < df['dti']) & (df['dti'] < upper)]"
   ]
  },
  {
   "cell_type": "code",
   "execution_count": 71,
   "id": "560a2857",
   "metadata": {},
   "outputs": [
    {
     "data": {
      "text/plain": [
       "(1273324, 21)"
      ]
     },
     "execution_count": 71,
     "metadata": {},
     "output_type": "execute_result"
    }
   ],
   "source": [
    "df.shape"
   ]
  },
  {
   "cell_type": "code",
   "execution_count": 72,
   "id": "13db8ea1",
   "metadata": {},
   "outputs": [
    {
     "data": {
      "text/html": [
       "<div>\n",
       "<style scoped>\n",
       "    .dataframe tbody tr th:only-of-type {\n",
       "        vertical-align: middle;\n",
       "    }\n",
       "\n",
       "    .dataframe tbody tr th {\n",
       "        vertical-align: top;\n",
       "    }\n",
       "\n",
       "    .dataframe thead th {\n",
       "        text-align: right;\n",
       "    }\n",
       "</style>\n",
       "<table border=\"1\" class=\"dataframe\">\n",
       "  <thead>\n",
       "    <tr style=\"text-align: right;\">\n",
       "      <th></th>\n",
       "      <th>count</th>\n",
       "      <th>mean</th>\n",
       "      <th>std</th>\n",
       "      <th>min</th>\n",
       "      <th>25%</th>\n",
       "      <th>50%</th>\n",
       "      <th>75%</th>\n",
       "      <th>max</th>\n",
       "    </tr>\n",
       "    <tr>\n",
       "      <th>Loan_Status</th>\n",
       "      <th></th>\n",
       "      <th></th>\n",
       "      <th></th>\n",
       "      <th></th>\n",
       "      <th></th>\n",
       "      <th></th>\n",
       "      <th></th>\n",
       "      <th></th>\n",
       "    </tr>\n",
       "  </thead>\n",
       "  <tbody>\n",
       "    <tr>\n",
       "      <th>0</th>\n",
       "      <td>246797.0</td>\n",
       "      <td>19.814544</td>\n",
       "      <td>8.542389</td>\n",
       "      <td>0.0</td>\n",
       "      <td>13.49</td>\n",
       "      <td>19.63</td>\n",
       "      <td>26.09</td>\n",
       "      <td>42.33</td>\n",
       "    </tr>\n",
       "    <tr>\n",
       "      <th>1</th>\n",
       "      <td>1026527.0</td>\n",
       "      <td>17.577257</td>\n",
       "      <td>8.260387</td>\n",
       "      <td>-1.0</td>\n",
       "      <td>11.39</td>\n",
       "      <td>17.04</td>\n",
       "      <td>23.33</td>\n",
       "      <td>42.33</td>\n",
       "    </tr>\n",
       "  </tbody>\n",
       "</table>\n",
       "</div>"
      ],
      "text/plain": [
       "                 count       mean       std  min    25%    50%    75%    max\n",
       "Loan_Status                                                                 \n",
       "0             246797.0  19.814544  8.542389  0.0  13.49  19.63  26.09  42.33\n",
       "1            1026527.0  17.577257  8.260387 -1.0  11.39  17.04  23.33  42.33"
      ]
     },
     "execution_count": 72,
     "metadata": {},
     "output_type": "execute_result"
    }
   ],
   "source": [
    "df.groupby('Loan_Status')['dti'].describe()"
   ]
  },
  {
   "attachments": {},
   "cell_type": "markdown",
   "id": "8426a266",
   "metadata": {},
   "source": [
    "# 14. earliest_cr_line\n",
    "Tháng mà người vay mở tài khoản tín dụng đầu tiên được báo cáo."
   ]
  },
  {
   "cell_type": "code",
   "execution_count": 73,
   "id": "abfd9f56",
   "metadata": {},
   "outputs": [
    {
     "data": {
      "text/plain": [
       "1273324"
      ]
     },
     "execution_count": 73,
     "metadata": {},
     "output_type": "execute_result"
    }
   ],
   "source": [
    "df.earliest_cr_line.isnull().count()"
   ]
  },
  {
   "cell_type": "raw",
   "id": "220c9419",
   "metadata": {},
   "source": [
    "thiếu nhiều và không ảnh hưởng đến dự đoán -> bỏ"
   ]
  },
  {
   "cell_type": "code",
   "execution_count": 74,
   "id": "7b4b4137",
   "metadata": {},
   "outputs": [],
   "source": [
    "df = df.drop('earliest_cr_line', axis = 1)"
   ]
  },
  {
   "attachments": {},
   "cell_type": "markdown",
   "id": "dc76fa8e",
   "metadata": {},
   "source": [
    "# 15. fico\n",
    "điểm tín dụng"
   ]
  },
  {
   "cell_type": "raw",
   "id": "5ee9ecf2",
   "metadata": {},
   "source": [
    "fico_range_low và fico_range_high là 2 biến tương tự nhau -> gộp 2 biến thành 1"
   ]
  },
  {
   "cell_type": "code",
   "execution_count": 75,
   "id": "91a281a6",
   "metadata": {},
   "outputs": [
    {
     "data": {
      "text/html": [
       "<div>\n",
       "<style scoped>\n",
       "    .dataframe tbody tr th:only-of-type {\n",
       "        vertical-align: middle;\n",
       "    }\n",
       "\n",
       "    .dataframe tbody tr th {\n",
       "        vertical-align: top;\n",
       "    }\n",
       "\n",
       "    .dataframe thead th {\n",
       "        text-align: right;\n",
       "    }\n",
       "</style>\n",
       "<table border=\"1\" class=\"dataframe\">\n",
       "  <thead>\n",
       "    <tr style=\"text-align: right;\">\n",
       "      <th></th>\n",
       "      <th>fico_range_low</th>\n",
       "      <th>fico_range_high</th>\n",
       "    </tr>\n",
       "  </thead>\n",
       "  <tbody>\n",
       "    <tr>\n",
       "      <th>count</th>\n",
       "      <td>1.273324e+06</td>\n",
       "      <td>1.273324e+06</td>\n",
       "    </tr>\n",
       "    <tr>\n",
       "      <th>mean</th>\n",
       "      <td>6.962751e+02</td>\n",
       "      <td>7.002752e+02</td>\n",
       "    </tr>\n",
       "    <tr>\n",
       "      <th>std</th>\n",
       "      <td>3.194381e+01</td>\n",
       "      <td>3.194444e+01</td>\n",
       "    </tr>\n",
       "    <tr>\n",
       "      <th>min</th>\n",
       "      <td>6.250000e+02</td>\n",
       "      <td>6.290000e+02</td>\n",
       "    </tr>\n",
       "    <tr>\n",
       "      <th>25%</th>\n",
       "      <td>6.700000e+02</td>\n",
       "      <td>6.740000e+02</td>\n",
       "    </tr>\n",
       "    <tr>\n",
       "      <th>50%</th>\n",
       "      <td>6.900000e+02</td>\n",
       "      <td>6.940000e+02</td>\n",
       "    </tr>\n",
       "    <tr>\n",
       "      <th>75%</th>\n",
       "      <td>7.100000e+02</td>\n",
       "      <td>7.140000e+02</td>\n",
       "    </tr>\n",
       "    <tr>\n",
       "      <th>max</th>\n",
       "      <td>8.450000e+02</td>\n",
       "      <td>8.500000e+02</td>\n",
       "    </tr>\n",
       "  </tbody>\n",
       "</table>\n",
       "</div>"
      ],
      "text/plain": [
       "       fico_range_low  fico_range_high\n",
       "count    1.273324e+06     1.273324e+06\n",
       "mean     6.962751e+02     7.002752e+02\n",
       "std      3.194381e+01     3.194444e+01\n",
       "min      6.250000e+02     6.290000e+02\n",
       "25%      6.700000e+02     6.740000e+02\n",
       "50%      6.900000e+02     6.940000e+02\n",
       "75%      7.100000e+02     7.140000e+02\n",
       "max      8.450000e+02     8.500000e+02"
      ]
     },
     "execution_count": 75,
     "metadata": {},
     "output_type": "execute_result"
    }
   ],
   "source": [
    "df[['fico_range_low', 'fico_range_high']].describe()"
   ]
  },
  {
   "cell_type": "code",
   "execution_count": 76,
   "id": "08b0dd98",
   "metadata": {},
   "outputs": [
    {
     "data": {
      "text/plain": [
       "0          677.0\n",
       "1          717.0\n",
       "2          697.0\n",
       "4          697.0\n",
       "5          692.0\n",
       "           ...  \n",
       "2260688    737.0\n",
       "2260690    707.0\n",
       "2260691    737.0\n",
       "2260692    667.0\n",
       "2260697    662.0\n",
       "Name: fico, Length: 1273324, dtype: float64"
      ]
     },
     "execution_count": 76,
     "metadata": {},
     "output_type": "execute_result"
    }
   ],
   "source": [
    "df['fico']=(df.fico_range_low+df.fico_range_high)/2\n",
    "df.fico"
   ]
  },
  {
   "cell_type": "code",
   "execution_count": 77,
   "id": "1522a340",
   "metadata": {},
   "outputs": [],
   "source": [
    "df = df.drop(['fico_range_low', 'fico_range_high'], axis = 1)"
   ]
  },
  {
   "cell_type": "code",
   "execution_count": 78,
   "id": "3378d520",
   "metadata": {},
   "outputs": [
    {
     "data": {
      "text/plain": [
       "<AxesSubplot:xlabel='Loan_Status', ylabel='fico'>"
      ]
     },
     "execution_count": 78,
     "metadata": {},
     "output_type": "execute_result"
    },
    {
     "data": {
      "image/png": "[encoded data removed]",
      "text/plain": [
       "<Figure size 432x288 with 1 Axes>"
      ]
     },
     "metadata": {
      "needs_background": "light"
     },
     "output_type": "display_data"
    }
   ],
   "source": [
    "sns.boxplot(y='fico',x='Loan_Status', data=df)"
   ]
  },
  {
   "cell_type": "code",
   "execution_count": 79,
   "id": "b686969f",
   "metadata": {},
   "outputs": [
    {
     "data": {
      "text/html": [
       "<div>\n",
       "<style scoped>\n",
       "    .dataframe tbody tr th:only-of-type {\n",
       "        vertical-align: middle;\n",
       "    }\n",
       "\n",
       "    .dataframe tbody tr th {\n",
       "        vertical-align: top;\n",
       "    }\n",
       "\n",
       "    .dataframe thead th {\n",
       "        text-align: right;\n",
       "    }\n",
       "</style>\n",
       "<table border=\"1\" class=\"dataframe\">\n",
       "  <thead>\n",
       "    <tr style=\"text-align: right;\">\n",
       "      <th></th>\n",
       "      <th>count</th>\n",
       "      <th>mean</th>\n",
       "      <th>std</th>\n",
       "      <th>min</th>\n",
       "      <th>25%</th>\n",
       "      <th>50%</th>\n",
       "      <th>75%</th>\n",
       "      <th>max</th>\n",
       "    </tr>\n",
       "    <tr>\n",
       "      <th>Loan_Status</th>\n",
       "      <th></th>\n",
       "      <th></th>\n",
       "      <th></th>\n",
       "      <th></th>\n",
       "      <th></th>\n",
       "      <th></th>\n",
       "      <th></th>\n",
       "      <th></th>\n",
       "    </tr>\n",
       "  </thead>\n",
       "  <tbody>\n",
       "    <tr>\n",
       "      <th>0</th>\n",
       "      <td>246797.0</td>\n",
       "      <td>689.975551</td>\n",
       "      <td>26.001440</td>\n",
       "      <td>662.0</td>\n",
       "      <td>672.0</td>\n",
       "      <td>682.0</td>\n",
       "      <td>702.0</td>\n",
       "      <td>847.5</td>\n",
       "    </tr>\n",
       "    <tr>\n",
       "      <th>1</th>\n",
       "      <td>1026527.0</td>\n",
       "      <td>700.270562</td>\n",
       "      <td>32.904015</td>\n",
       "      <td>627.0</td>\n",
       "      <td>677.0</td>\n",
       "      <td>692.0</td>\n",
       "      <td>717.0</td>\n",
       "      <td>847.5</td>\n",
       "    </tr>\n",
       "  </tbody>\n",
       "</table>\n",
       "</div>"
      ],
      "text/plain": [
       "                 count        mean        std    min    25%    50%    75%  \\\n",
       "Loan_Status                                                                 \n",
       "0             246797.0  689.975551  26.001440  662.0  672.0  682.0  702.0   \n",
       "1            1026527.0  700.270562  32.904015  627.0  677.0  692.0  717.0   \n",
       "\n",
       "               max  \n",
       "Loan_Status         \n",
       "0            847.5  \n",
       "1            847.5  "
      ]
     },
     "execution_count": 79,
     "metadata": {},
     "output_type": "execute_result"
    }
   ],
   "source": [
    "df.groupby('Loan_Status')['fico'].describe()"
   ]
  },
  {
   "attachments": {},
   "cell_type": "markdown",
   "id": "4d225cd0",
   "metadata": {},
   "source": [
    "# 16. open_acc\n",
    "Số lượng các khoản tín dụng đang mở trong hồ sơ tín dụng của người vay "
   ]
  },
  {
   "cell_type": "code",
   "execution_count": 80,
   "id": "43b7669d",
   "metadata": {},
   "outputs": [
    {
     "data": {
      "text/plain": [
       "count    1.273324e+06\n",
       "mean     1.151325e+01\n",
       "std      5.428128e+00\n",
       "min      0.000000e+00\n",
       "25%      8.000000e+00\n",
       "50%      1.100000e+01\n",
       "75%      1.400000e+01\n",
       "max      9.000000e+01\n",
       "Name: open_acc, dtype: float64"
      ]
     },
     "execution_count": 80,
     "metadata": {},
     "output_type": "execute_result"
    }
   ],
   "source": [
    "df.open_acc.describe()"
   ]
  },
  {
   "cell_type": "code",
   "execution_count": 81,
   "id": "dcb39fc6",
   "metadata": {},
   "outputs": [
    {
     "data": {
      "text/plain": [
       "<AxesSubplot:ylabel='open_acc'>"
      ]
     },
     "execution_count": 81,
     "metadata": {},
     "output_type": "execute_result"
    },
    {
     "data": {
      "image/png": "[encoded data removed]",
      "text/plain": [
       "<Figure size 432x288 with 1 Axes>"
      ]
     },
     "metadata": {
      "needs_background": "light"
     },
     "output_type": "display_data"
    }
   ],
   "source": [
    "sns.boxplot(y='open_acc', data=df)"
   ]
  },
  {
   "cell_type": "code",
   "execution_count": 82,
   "id": "87d0483d",
   "metadata": {},
   "outputs": [],
   "source": [
    "#lọc ngoại lai\n",
    "q1 = df['open_acc'].quantile(0.25) # Tính Q1\n",
    "q3 = df['open_acc'].quantile(0.75) # Tính Q3\n",
    "\n",
    "iqr = q3 - q1\n",
    "\n",
    "upper = q3 + 1.5*iqr\n",
    "lower = q1 - 1.5*iqr"
   ]
  },
  {
   "cell_type": "code",
   "execution_count": 83,
   "id": "5d826bda",
   "metadata": {},
   "outputs": [],
   "source": [
    "df = df[(lower < df['open_acc']) & (df['open_acc'] < upper)]"
   ]
  },
  {
   "cell_type": "code",
   "execution_count": 84,
   "id": "606129f4",
   "metadata": {},
   "outputs": [
    {
     "data": {
      "text/plain": [
       "(1220610, 19)"
      ]
     },
     "execution_count": 84,
     "metadata": {},
     "output_type": "execute_result"
    }
   ],
   "source": [
    "df.shape"
   ]
  },
  {
   "attachments": {},
   "cell_type": "markdown",
   "id": "876aed35",
   "metadata": {},
   "source": [
    "# 17. total_acc\n",
    "Số lượng tất cả các tài khoản tín dụng hiện đang có trong hồ sơ tín dụng của người vay"
   ]
  },
  {
   "cell_type": "code",
   "execution_count": 85,
   "id": "07e438f8",
   "metadata": {},
   "outputs": [
    {
     "data": {
      "text/plain": [
       "count    1.220610e+06\n",
       "mean     2.386664e+01\n",
       "std      1.094310e+01\n",
       "min      2.000000e+00\n",
       "25%      1.600000e+01\n",
       "50%      2.300000e+01\n",
       "75%      3.000000e+01\n",
       "max      1.730000e+02\n",
       "Name: total_acc, dtype: float64"
      ]
     },
     "execution_count": 85,
     "metadata": {},
     "output_type": "execute_result"
    }
   ],
   "source": [
    "df.total_acc.describe()"
   ]
  },
  {
   "cell_type": "code",
   "execution_count": 86,
   "id": "e7eebce8",
   "metadata": {},
   "outputs": [
    {
     "data": {
      "text/plain": [
       "<AxesSubplot:ylabel='total_acc'>"
      ]
     },
     "execution_count": 86,
     "metadata": {},
     "output_type": "execute_result"
    },
    {
     "data": {
      "image/png": "[encoded data removed]",
      "text/plain": [
       "<Figure size 432x288 with 1 Axes>"
      ]
     },
     "metadata": {
      "needs_background": "light"
     },
     "output_type": "display_data"
    }
   ],
   "source": [
    "sns.boxplot(y='total_acc', data=df)"
   ]
  },
  {
   "cell_type": "code",
   "execution_count": 87,
   "id": "6df28324",
   "metadata": {},
   "outputs": [
    {
     "data": {
      "text/plain": [
       "(1220610, 19)"
      ]
     },
     "execution_count": 87,
     "metadata": {},
     "output_type": "execute_result"
    }
   ],
   "source": [
    "df.shape"
   ]
  },
  {
   "cell_type": "code",
   "execution_count": 88,
   "id": "45dad0a0",
   "metadata": {},
   "outputs": [
    {
     "name": "stdout",
     "output_type": "stream",
     "text": [
      "<class 'pandas.core.frame.DataFrame'>\n",
      "Int64Index: 1220610 entries, 0 to 2260697\n",
      "Data columns (total 19 columns):\n",
      " #   Column                Non-Null Count    Dtype  \n",
      "---  ------                --------------    -----  \n",
      " 0   loan_amnt             1220610 non-null  float64\n",
      " 1   term                  1220610 non-null  int64  \n",
      " 2   int_rate              1220610 non-null  float64\n",
      " 3   installment           1220610 non-null  float64\n",
      " 4   sub_grade             1220610 non-null  object \n",
      " 5   purpose               1220610 non-null  int64  \n",
      " 6   dti                   1220610 non-null  float64\n",
      " 7   open_acc              1220610 non-null  float64\n",
      " 8   pub_rec               1220610 non-null  float64\n",
      " 9   revol_bal             1220610 non-null  float64\n",
      " 10  revol_util            1219822 non-null  float64\n",
      " 11  total_acc             1220610 non-null  float64\n",
      " 12  initial_list_status   1220610 non-null  object \n",
      " 13  application_type      1220610 non-null  object \n",
      " 14  mort_acc              1174130 non-null  float64\n",
      " 15  pub_rec_bankruptcies  1219929 non-null  float64\n",
      " 16  Loan_Status           1220610 non-null  int64  \n",
      " 17  Ver_status            1220610 non-null  int64  \n",
      " 18  fico                  1220610 non-null  float64\n",
      "dtypes: float64(12), int64(4), object(3)\n",
      "memory usage: 186.3+ MB\n"
     ]
    }
   ],
   "source": [
    "df.info()"
   ]
  },
  {
   "attachments": {},
   "cell_type": "markdown",
   "id": "7a3ad4c4",
   "metadata": {},
   "source": [
    "# 18. pub_rec\n",
    "số bản ghi công khai về thông tiin xấu của người vay"
   ]
  },
  {
   "cell_type": "code",
   "execution_count": 89,
   "id": "d15380d2",
   "metadata": {},
   "outputs": [
    {
     "data": {
      "text/plain": [
       "0.0     1011276\n",
       "1.0      175496\n",
       "2.0       22336\n",
       "3.0        6761\n",
       "4.0        2383\n",
       "5.0        1139\n",
       "6.0         567\n",
       "7.0         249\n",
       "8.0         145\n",
       "9.0          75\n",
       "10.0         51\n",
       "11.0         37\n",
       "12.0         25\n",
       "13.0         14\n",
       "15.0          9\n",
       "18.0          6\n",
       "14.0          5\n",
       "19.0          5\n",
       "21.0          4\n",
       "28.0          3\n",
       "16.0          3\n",
       "49.0          2\n",
       "22.0          2\n",
       "20.0          2\n",
       "24.0          2\n",
       "17.0          2\n",
       "63.0          1\n",
       "25.0          1\n",
       "54.0          1\n",
       "34.0          1\n",
       "47.0          1\n",
       "40.0          1\n",
       "37.0          1\n",
       "46.0          1\n",
       "86.0          1\n",
       "23.0          1\n",
       "61.0          1\n",
       "Name: pub_rec, dtype: int64"
      ]
     },
     "execution_count": 89,
     "metadata": {},
     "output_type": "execute_result"
    }
   ],
   "source": [
    "df.pub_rec.value_counts()"
   ]
  },
  {
   "cell_type": "code",
   "execution_count": 90,
   "id": "5b19706c",
   "metadata": {},
   "outputs": [],
   "source": [
    "def pub_rec(number):\n",
    "    if number == 0.0:\n",
    "        return 0\n",
    "    elif number >= 1.0:\n",
    "        return 1\n",
    "    else:\n",
    "        return number\n",
    "df['pub_rec'] = df.pub_rec.apply(pub_rec)"
   ]
  },
  {
   "cell_type": "code",
   "execution_count": 91,
   "id": "9a80b95d",
   "metadata": {},
   "outputs": [
    {
     "data": {
      "text/plain": [
       "(1220610, 19)"
      ]
     },
     "execution_count": 91,
     "metadata": {},
     "output_type": "execute_result"
    }
   ],
   "source": [
    "df.shape"
   ]
  },
  {
   "attachments": {},
   "cell_type": "markdown",
   "id": "1b01ea42",
   "metadata": {},
   "source": [
    "# 19. revol_bal\n",
    "Số dư nợ tín dụng quay vòng"
   ]
  },
  {
   "cell_type": "code",
   "execution_count": 92,
   "id": "648f96ea",
   "metadata": {},
   "outputs": [
    {
     "data": {
      "text/plain": [
       "count    1.220610e+06\n",
       "mean     1.512616e+04\n",
       "std      1.988189e+04\n",
       "min      0.000000e+00\n",
       "25%      5.727000e+03\n",
       "50%      1.062300e+04\n",
       "75%      1.853300e+04\n",
       "max      2.568995e+06\n",
       "Name: revol_bal, dtype: float64"
      ]
     },
     "execution_count": 92,
     "metadata": {},
     "output_type": "execute_result"
    }
   ],
   "source": [
    "df.revol_bal.describe()"
   ]
  },
  {
   "cell_type": "code",
   "execution_count": 93,
   "id": "b3495c10",
   "metadata": {},
   "outputs": [
    {
     "data": {
      "text/html": [
       "<div>\n",
       "<style scoped>\n",
       "    .dataframe tbody tr th:only-of-type {\n",
       "        vertical-align: middle;\n",
       "    }\n",
       "\n",
       "    .dataframe tbody tr th {\n",
       "        vertical-align: top;\n",
       "    }\n",
       "\n",
       "    .dataframe thead th {\n",
       "        text-align: right;\n",
       "    }\n",
       "</style>\n",
       "<table border=\"1\" class=\"dataframe\">\n",
       "  <thead>\n",
       "    <tr style=\"text-align: right;\">\n",
       "      <th></th>\n",
       "      <th>count</th>\n",
       "      <th>mean</th>\n",
       "      <th>std</th>\n",
       "      <th>min</th>\n",
       "      <th>25%</th>\n",
       "      <th>50%</th>\n",
       "      <th>75%</th>\n",
       "      <th>max</th>\n",
       "    </tr>\n",
       "    <tr>\n",
       "      <th>Loan_Status</th>\n",
       "      <th></th>\n",
       "      <th></th>\n",
       "      <th></th>\n",
       "      <th></th>\n",
       "      <th></th>\n",
       "      <th></th>\n",
       "      <th></th>\n",
       "      <th></th>\n",
       "    </tr>\n",
       "  </thead>\n",
       "  <tbody>\n",
       "    <tr>\n",
       "      <th>0</th>\n",
       "      <td>234946.0</td>\n",
       "      <td>14386.513654</td>\n",
       "      <td>16721.762733</td>\n",
       "      <td>0.0</td>\n",
       "      <td>5781.25</td>\n",
       "      <td>10573.0</td>\n",
       "      <td>17996.0</td>\n",
       "      <td>867528.0</td>\n",
       "    </tr>\n",
       "    <tr>\n",
       "      <th>1</th>\n",
       "      <td>985664.0</td>\n",
       "      <td>15302.459400</td>\n",
       "      <td>20559.683951</td>\n",
       "      <td>0.0</td>\n",
       "      <td>5715.00</td>\n",
       "      <td>10635.0</td>\n",
       "      <td>18668.0</td>\n",
       "      <td>2568995.0</td>\n",
       "    </tr>\n",
       "  </tbody>\n",
       "</table>\n",
       "</div>"
      ],
      "text/plain": [
       "                count          mean           std  min      25%      50%  \\\n",
       "Loan_Status                                                                \n",
       "0            234946.0  14386.513654  16721.762733  0.0  5781.25  10573.0   \n",
       "1            985664.0  15302.459400  20559.683951  0.0  5715.00  10635.0   \n",
       "\n",
       "                 75%        max  \n",
       "Loan_Status                      \n",
       "0            17996.0   867528.0  \n",
       "1            18668.0  2568995.0  "
      ]
     },
     "execution_count": 93,
     "metadata": {},
     "output_type": "execute_result"
    }
   ],
   "source": [
    "df.groupby('Loan_Status')['revol_bal'].describe()"
   ]
  },
  {
   "cell_type": "code",
   "execution_count": 94,
   "id": "7ee3d821",
   "metadata": {},
   "outputs": [
    {
     "data": {
      "text/plain": [
       "<AxesSubplot:xlabel='Loan_Status', ylabel='revol_bal'>"
      ]
     },
     "execution_count": 94,
     "metadata": {},
     "output_type": "execute_result"
    },
    {
     "data": {
      "image/png": "[encoded data removed]",
      "text/plain": [
       "<Figure size 432x288 with 1 Axes>"
      ]
     },
     "metadata": {
      "needs_background": "light"
     },
     "output_type": "display_data"
    }
   ],
   "source": [
    "sns.boxplot(y='revol_bal', x ='Loan_Status', data=df)"
   ]
  },
  {
   "cell_type": "code",
   "execution_count": 95,
   "id": "71003cc8",
   "metadata": {},
   "outputs": [],
   "source": [
    "q1 = df['revol_bal'].quantile(0.25) # Tính Q1\n",
    "q3 = df['revol_bal'].quantile(0.75) # Tính Q3\n",
    "\n",
    "iqr = q3 - q1\n",
    "\n",
    "upper = q3 + 1.5*iqr\n",
    "lower = q1 - 1.5*iqr"
   ]
  },
  {
   "cell_type": "code",
   "execution_count": 96,
   "id": "64e58e1f",
   "metadata": {},
   "outputs": [],
   "source": [
    "df = df[(lower < df['revol_bal']) & (df['revol_bal'] < upper)]"
   ]
  },
  {
   "cell_type": "code",
   "execution_count": 97,
   "id": "a65984af",
   "metadata": {},
   "outputs": [
    {
     "data": {
      "text/plain": [
       "(1150195, 19)"
      ]
     },
     "execution_count": 97,
     "metadata": {},
     "output_type": "execute_result"
    }
   ],
   "source": [
    "df.shape"
   ]
  },
  {
   "attachments": {},
   "cell_type": "markdown",
   "id": "6b881280",
   "metadata": {},
   "source": [
    "# 20. revol_util\n",
    "Tỷ lệ sử dụng hạn mức quay vòng"
   ]
  },
  {
   "cell_type": "code",
   "execution_count": 98,
   "id": "499a7302",
   "metadata": {},
   "outputs": [
    {
     "data": {
      "text/plain": [
       "count    1.149470e+06\n",
       "mean     5.104427e+01\n",
       "std      2.438778e+01\n",
       "min      0.000000e+00\n",
       "25%      3.280000e+01\n",
       "50%      5.120000e+01\n",
       "75%      6.970000e+01\n",
       "max      8.923000e+02\n",
       "Name: revol_util, dtype: float64"
      ]
     },
     "execution_count": 98,
     "metadata": {},
     "output_type": "execute_result"
    }
   ],
   "source": [
    "df.revol_util.describe()"
   ]
  },
  {
   "cell_type": "code",
   "execution_count": 99,
   "id": "d50b25de",
   "metadata": {},
   "outputs": [
    {
     "data": {
      "text/plain": [
       "<AxesSubplot:xlabel='Loan_Status', ylabel='revol_util'>"
      ]
     },
     "execution_count": 99,
     "metadata": {},
     "output_type": "execute_result"
    },
    {
     "data": {
      "image/png": "[encoded data removed]",
      "text/plain": [
       "<Figure size 432x288 with 1 Axes>"
      ]
     },
     "metadata": {
      "needs_background": "light"
     },
     "output_type": "display_data"
    }
   ],
   "source": [
    "sns.boxplot(y='revol_util', x ='Loan_Status', data=df)"
   ]
  },
  {
   "cell_type": "code",
   "execution_count": 100,
   "id": "3a1f2f32",
   "metadata": {},
   "outputs": [],
   "source": [
    "q1 = df['revol_util'].quantile(0.25) # Tính Q1\n",
    "q3 = df['revol_util'].quantile(0.75) # Tính Q3\n",
    "\n",
    "iqr = q3 - q1\n",
    "\n",
    "upper = q3 + 1.5*iqr\n",
    "lower = q1 - 1.5*iqr"
   ]
  },
  {
   "cell_type": "code",
   "execution_count": 101,
   "id": "6c8d03ce",
   "metadata": {},
   "outputs": [],
   "source": [
    "df = df[(lower < df['revol_util']) & (df['revol_util'] < upper)]"
   ]
  },
  {
   "cell_type": "code",
   "execution_count": 102,
   "id": "8c1dab10",
   "metadata": {},
   "outputs": [
    {
     "data": {
      "text/plain": [
       "(1149405, 19)"
      ]
     },
     "execution_count": 102,
     "metadata": {},
     "output_type": "execute_result"
    }
   ],
   "source": [
    "df.shape"
   ]
  },
  {
   "attachments": {},
   "cell_type": "markdown",
   "id": "ba5d486d",
   "metadata": {},
   "source": [
    "# 21. initial_list_status\n",
    "tình trạng niêm yết ban đầu của khoản vay"
   ]
  },
  {
   "cell_type": "code",
   "execution_count": 103,
   "id": "2fd37a5e",
   "metadata": {},
   "outputs": [
    {
     "data": {
      "text/plain": [
       "count     1149405\n",
       "unique          2\n",
       "top             w\n",
       "freq       663184\n",
       "Name: initial_list_status, dtype: object"
      ]
     },
     "execution_count": 103,
     "metadata": {},
     "output_type": "execute_result"
    }
   ],
   "source": [
    "df.initial_list_status.describe()"
   ]
  },
  {
   "cell_type": "code",
   "execution_count": 104,
   "id": "15f6d90f",
   "metadata": {},
   "outputs": [
    {
     "data": {
      "text/plain": [
       "<AxesSubplot:xlabel='initial_list_status', ylabel='count'>"
      ]
     },
     "execution_count": 104,
     "metadata": {},
     "output_type": "execute_result"
    },
    {
     "data": {
      "image/png": "[encoded data removed]",
      "text/plain": [
       "<Figure size 432x288 with 1 Axes>"
      ]
     },
     "metadata": {
      "needs_background": "light"
     },
     "output_type": "display_data"
    }
   ],
   "source": [
    "sns.countplot(x='initial_list_status',data=df,hue='Loan_Status')"
   ]
  },
  {
   "cell_type": "code",
   "execution_count": 105,
   "id": "17dab239",
   "metadata": {},
   "outputs": [
    {
     "data": {
      "text/plain": [
       "0.222004015067107"
      ]
     },
     "execution_count": 105,
     "metadata": {},
     "output_type": "execute_result"
    }
   ],
   "source": [
    "df.loc[df.initial_list_status=='w','Loan_Status'].value_counts()\n",
    "177932/(177932+623549)"
   ]
  },
  {
   "cell_type": "code",
   "execution_count": 106,
   "id": "604a3121",
   "metadata": {},
   "outputs": [
    {
     "data": {
      "text/plain": [
       "0.20924571393299693"
      ]
     },
     "execution_count": 106,
     "metadata": {},
     "output_type": "execute_result"
    }
   ],
   "source": [
    "df.loc[df.initial_list_status=='f','Loan_Status'].value_counts()\n",
    "108478/(108478+409946)"
   ]
  },
  {
   "cell_type": "raw",
   "id": "3b7cbc8e",
   "metadata": {},
   "source": [
    "ti le khong tra duoc o w va f xap xi nhau -> ko co ich cho mo hinh"
   ]
  },
  {
   "cell_type": "code",
   "execution_count": 107,
   "id": "706c5166",
   "metadata": {},
   "outputs": [],
   "source": [
    "df = df.drop('initial_list_status', axis = 1)"
   ]
  },
  {
   "attachments": {},
   "cell_type": "markdown",
   "id": "d782a812",
   "metadata": {},
   "source": [
    "# 22. application_type\n",
    "người vay là cá nhân hay tổ chức"
   ]
  },
  {
   "cell_type": "code",
   "execution_count": 108,
   "id": "fdf0a3b7",
   "metadata": {},
   "outputs": [
    {
     "data": {
      "text/plain": [
       "Individual    0.985405\n",
       "Joint App     0.014595\n",
       "Name: application_type, dtype: float64"
      ]
     },
     "execution_count": 108,
     "metadata": {},
     "output_type": "execute_result"
    }
   ],
   "source": [
    "df['application_type'].value_counts(normalize=True)"
   ]
  },
  {
   "cell_type": "code",
   "execution_count": 109,
   "id": "90fad2fb",
   "metadata": {},
   "outputs": [
    {
     "data": {
      "text/html": [
       "<div>\n",
       "<style scoped>\n",
       "    .dataframe tbody tr th:only-of-type {\n",
       "        vertical-align: middle;\n",
       "    }\n",
       "\n",
       "    .dataframe tbody tr th {\n",
       "        vertical-align: top;\n",
       "    }\n",
       "\n",
       "    .dataframe thead th {\n",
       "        text-align: right;\n",
       "    }\n",
       "</style>\n",
       "<table border=\"1\" class=\"dataframe\">\n",
       "  <thead>\n",
       "    <tr style=\"text-align: right;\">\n",
       "      <th></th>\n",
       "      <th>count</th>\n",
       "      <th>unique</th>\n",
       "      <th>top</th>\n",
       "      <th>freq</th>\n",
       "    </tr>\n",
       "    <tr>\n",
       "      <th>Loan_Status</th>\n",
       "      <th></th>\n",
       "      <th></th>\n",
       "      <th></th>\n",
       "      <th></th>\n",
       "    </tr>\n",
       "  </thead>\n",
       "  <tbody>\n",
       "    <tr>\n",
       "      <th>0</th>\n",
       "      <td>223294</td>\n",
       "      <td>2</td>\n",
       "      <td>Individual</td>\n",
       "      <td>219451</td>\n",
       "    </tr>\n",
       "    <tr>\n",
       "      <th>1</th>\n",
       "      <td>926111</td>\n",
       "      <td>2</td>\n",
       "      <td>Individual</td>\n",
       "      <td>913178</td>\n",
       "    </tr>\n",
       "  </tbody>\n",
       "</table>\n",
       "</div>"
      ],
      "text/plain": [
       "              count unique         top    freq\n",
       "Loan_Status                                   \n",
       "0            223294      2  Individual  219451\n",
       "1            926111      2  Individual  913178"
      ]
     },
     "execution_count": 109,
     "metadata": {},
     "output_type": "execute_result"
    }
   ],
   "source": [
    "df.groupby('Loan_Status')['application_type'].describe()"
   ]
  },
  {
   "cell_type": "code",
   "execution_count": 110,
   "id": "aac4e913",
   "metadata": {},
   "outputs": [
    {
     "data": {
      "text/plain": [
       "<AxesSubplot:xlabel='application_type', ylabel='count'>"
      ]
     },
     "execution_count": 110,
     "metadata": {},
     "output_type": "execute_result"
    },
    {
     "data": {
      "image/png": "[encoded data removed]",
      "text/plain": [
       "<Figure size 432x288 with 1 Axes>"
      ]
     },
     "metadata": {
      "needs_background": "light"
     },
     "output_type": "display_data"
    }
   ],
   "source": [
    "sns.countplot(x='application_type',data=df,hue='Loan_Status')"
   ]
  },
  {
   "cell_type": "code",
   "execution_count": 111,
   "id": "29a9eabb",
   "metadata": {},
   "outputs": [
    {
     "data": {
      "text/plain": [
       "0.21411100938600214"
      ]
     },
     "execution_count": 111,
     "metadata": {},
     "output_type": "execute_result"
    }
   ],
   "source": [
    "df.loc[df.application_type=='Individual','Loan_Status'].value_counts()\n",
    "287656/(287656+1055834)"
   ]
  },
  {
   "cell_type": "code",
   "execution_count": 112,
   "id": "59715f10",
   "metadata": {},
   "outputs": [
    {
     "data": {
      "text/plain": [
       "0.315415438118999"
      ]
     },
     "execution_count": 112,
     "metadata": {},
     "output_type": "execute_result"
    }
   ],
   "source": [
    "df.loc[df.application_type=='Joint App','Loan_Status'].value_counts()\n",
    "8344/(8344+18110)"
   ]
  },
  {
   "cell_type": "raw",
   "id": "dcbd3ac4",
   "metadata": {},
   "source": [
    "du lieu mat can bang -> bo"
   ]
  },
  {
   "cell_type": "code",
   "execution_count": 113,
   "id": "0c4f0528",
   "metadata": {},
   "outputs": [],
   "source": [
    "df = df.drop('application_type', axis = 1)"
   ]
  },
  {
   "attachments": {},
   "cell_type": "markdown",
   "id": "a8005fa5",
   "metadata": {},
   "source": [
    "# 23. mort_acc\n",
    "số tài khoản thế chấp"
   ]
  },
  {
   "cell_type": "code",
   "execution_count": 114,
   "id": "f85282f5",
   "metadata": {},
   "outputs": [
    {
     "data": {
      "text/plain": [
       "0.0     473972\n",
       "1.0     195211\n",
       "2.0     156450\n",
       "3.0     111624\n",
       "4.0      74396\n",
       "5.0      44213\n",
       "6.0      24597\n",
       "7.0      12515\n",
       "8.0       6094\n",
       "9.0       3043\n",
       "10.0      1544\n",
       "11.0       827\n",
       "12.0       411\n",
       "13.0       224\n",
       "14.0       169\n",
       "15.0        82\n",
       "16.0        55\n",
       "17.0        31\n",
       "18.0        20\n",
       "19.0        20\n",
       "20.0        14\n",
       "24.0        11\n",
       "22.0         9\n",
       "21.0         8\n",
       "23.0         6\n",
       "25.0         5\n",
       "26.0         4\n",
       "27.0         3\n",
       "28.0         3\n",
       "30.0         2\n",
       "32.0         2\n",
       "34.0         2\n",
       "29.0         1\n",
       "37.0         1\n",
       "51.0         1\n",
       "31.0         1\n",
       "Name: mort_acc, dtype: int64"
      ]
     },
     "execution_count": 114,
     "metadata": {},
     "output_type": "execute_result"
    }
   ],
   "source": [
    "df.mort_acc.value_counts()"
   ]
  },
  {
   "cell_type": "code",
   "execution_count": 115,
   "id": "dad48886",
   "metadata": {},
   "outputs": [
    {
     "data": {
      "text/plain": [
       "<AxesSubplot:xlabel='Loan_Status', ylabel='mort_acc'>"
      ]
     },
     "execution_count": 115,
     "metadata": {},
     "output_type": "execute_result"
    },
    {
     "data": {
      "image/png": "[encoded data removed]",
      "text/plain": [
       "<Figure size 432x288 with 1 Axes>"
      ]
     },
     "metadata": {
      "needs_background": "light"
     },
     "output_type": "display_data"
    }
   ],
   "source": [
    "sns.boxplot(y='mort_acc', x ='Loan_Status', data=df)"
   ]
  },
  {
   "cell_type": "code",
   "execution_count": 116,
   "id": "a09ca030",
   "metadata": {},
   "outputs": [],
   "source": [
    "q1 = df['mort_acc'].quantile(0.25) # Tính Q1\n",
    "q3 = df['mort_acc'].quantile(0.75) # Tính Q3\n",
    "\n",
    "iqr = q3 - q1\n",
    "\n",
    "upper = q3 + 1.5*iqr\n",
    "lower = q1 - 1.5*iqr"
   ]
  },
  {
   "cell_type": "code",
   "execution_count": 117,
   "id": "ccd55ef2",
   "metadata": {},
   "outputs": [],
   "source": [
    "df = df[(lower < df['mort_acc']) & (df['mort_acc'] < upper)]"
   ]
  },
  {
   "cell_type": "code",
   "execution_count": 118,
   "id": "f1aa3a02",
   "metadata": {},
   "outputs": [
    {
     "data": {
      "text/plain": [
       "(1092978, 17)"
      ]
     },
     "execution_count": 118,
     "metadata": {},
     "output_type": "execute_result"
    }
   ],
   "source": [
    "df.shape"
   ]
  },
  {
   "attachments": {},
   "cell_type": "markdown",
   "id": "790afb78",
   "metadata": {},
   "source": [
    "# 24. pub_rec_bankruptcies\n",
    "số bản công khai thông tin phá sản của người vay"
   ]
  },
  {
   "cell_type": "code",
   "execution_count": 119,
   "id": "45f9e7a8",
   "metadata": {},
   "outputs": [
    {
     "data": {
      "text/plain": [
       "0.0     942443\n",
       "1.0     141469\n",
       "2.0       7053\n",
       "3.0       1463\n",
       "4.0        354\n",
       "5.0        128\n",
       "6.0         42\n",
       "7.0         14\n",
       "8.0          7\n",
       "9.0          3\n",
       "11.0         1\n",
       "12.0         1\n",
       "Name: pub_rec_bankruptcies, dtype: int64"
      ]
     },
     "execution_count": 119,
     "metadata": {},
     "output_type": "execute_result"
    }
   ],
   "source": [
    "df.pub_rec_bankruptcies.value_counts()"
   ]
  },
  {
   "cell_type": "code",
   "execution_count": 120,
   "id": "6fd1dd31",
   "metadata": {},
   "outputs": [],
   "source": [
    "def pub_rec_bankruptcies(x):\n",
    "    if x==0.0:\n",
    "        return 0\n",
    "    else:\n",
    "        return 1\n",
    "df['pub_rec_bankruptcies'] = df.pub_rec_bankruptcies.apply(pub_rec_bankruptcies)"
   ]
  },
  {
   "attachments": {},
   "cell_type": "markdown",
   "id": "1344409b",
   "metadata": {},
   "source": [
    "# 25. loan_amnt\n",
    "số tiền khoản vay"
   ]
  },
  {
   "cell_type": "code",
   "execution_count": 121,
   "id": "a079016c",
   "metadata": {},
   "outputs": [
    {
     "data": {
      "text/plain": [
       "count    1.092978e+06\n",
       "mean     1.316409e+04\n",
       "std      7.622674e+03\n",
       "min      1.000000e+03\n",
       "25%      7.200000e+03\n",
       "50%      1.200000e+04\n",
       "75%      1.800000e+04\n",
       "max      4.000000e+04\n",
       "Name: loan_amnt, dtype: float64"
      ]
     },
     "execution_count": 121,
     "metadata": {},
     "output_type": "execute_result"
    }
   ],
   "source": [
    "df.loan_amnt.describe()"
   ]
  },
  {
   "cell_type": "code",
   "execution_count": 122,
   "id": "ed8923e0",
   "metadata": {},
   "outputs": [
    {
     "data": {
      "text/plain": [
       "<AxesSubplot:xlabel='Loan_Status', ylabel='loan_amnt'>"
      ]
     },
     "execution_count": 122,
     "metadata": {},
     "output_type": "execute_result"
    },
    {
     "data": {
      "image/png": "[encoded data removed]",
      "text/plain": [
       "<Figure size 432x288 with 1 Axes>"
      ]
     },
     "metadata": {
      "needs_background": "light"
     },
     "output_type": "display_data"
    }
   ],
   "source": [
    "sns.boxplot(y='loan_amnt', x ='Loan_Status', data=df)"
   ]
  },
  {
   "cell_type": "raw",
   "id": "2ab05b44",
   "metadata": {},
   "source": [
    "charged off co loan amount nhieu hon"
   ]
  },
  {
   "cell_type": "code",
   "execution_count": 123,
   "id": "73e0e815",
   "metadata": {},
   "outputs": [
    {
     "name": "stdout",
     "output_type": "stream",
     "text": [
      "<class 'pandas.core.frame.DataFrame'>\n",
      "Int64Index: 1092978 entries, 0 to 2260697\n",
      "Data columns (total 17 columns):\n",
      " #   Column                Non-Null Count    Dtype  \n",
      "---  ------                --------------    -----  \n",
      " 0   loan_amnt             1092978 non-null  float64\n",
      " 1   term                  1092978 non-null  int64  \n",
      " 2   int_rate              1092978 non-null  float64\n",
      " 3   installment           1092978 non-null  float64\n",
      " 4   sub_grade             1092978 non-null  object \n",
      " 5   purpose               1092978 non-null  int64  \n",
      " 6   dti                   1092978 non-null  float64\n",
      " 7   open_acc              1092978 non-null  float64\n",
      " 8   pub_rec               1092978 non-null  int64  \n",
      " 9   revol_bal             1092978 non-null  float64\n",
      " 10  revol_util            1092978 non-null  float64\n",
      " 11  total_acc             1092978 non-null  float64\n",
      " 12  mort_acc              1092978 non-null  float64\n",
      " 13  pub_rec_bankruptcies  1092978 non-null  int64  \n",
      " 14  Loan_Status           1092978 non-null  int64  \n",
      " 15  Ver_status            1092978 non-null  int64  \n",
      " 16  fico                  1092978 non-null  float64\n",
      "dtypes: float64(10), int64(6), object(1)\n",
      "memory usage: 150.1+ MB\n"
     ]
    }
   ],
   "source": [
    "df.info()"
   ]
  },
  {
   "cell_type": "code",
   "execution_count": 124,
   "id": "767b9df6",
   "metadata": {},
   "outputs": [
    {
     "data": {
      "text/plain": [
       "loan_amnt               0\n",
       "term                    0\n",
       "int_rate                0\n",
       "installment             0\n",
       "sub_grade               0\n",
       "purpose                 0\n",
       "dti                     0\n",
       "open_acc                0\n",
       "pub_rec                 0\n",
       "revol_bal               0\n",
       "revol_util              0\n",
       "total_acc               0\n",
       "mort_acc                0\n",
       "pub_rec_bankruptcies    0\n",
       "Loan_Status             0\n",
       "Ver_status              0\n",
       "fico                    0\n",
       "dtype: int64"
      ]
     },
     "execution_count": 124,
     "metadata": {},
     "output_type": "execute_result"
    }
   ],
   "source": [
    "df.isna().sum()"
   ]
  },
  {
   "cell_type": "code",
   "execution_count": 125,
   "id": "12d3c4c3",
   "metadata": {
    "scrolled": true
   },
   "outputs": [
    {
     "data": {
      "text/plain": [
       "Index(['loan_amnt', 'term', 'int_rate', 'installment', 'sub_grade', 'purpose',\n",
       "       'dti', 'open_acc', 'pub_rec', 'revol_bal', 'revol_util', 'total_acc',\n",
       "       'mort_acc', 'pub_rec_bankruptcies', 'Loan_Status', 'Ver_status',\n",
       "       'fico'],\n",
       "      dtype='object')"
      ]
     },
     "execution_count": 125,
     "metadata": {},
     "output_type": "execute_result"
    }
   ],
   "source": [
    "df.columns"
   ]
  },
  {
   "cell_type": "code",
   "execution_count": 126,
   "id": "a065d0ae",
   "metadata": {},
   "outputs": [
    {
     "name": "stdout",
     "output_type": "stream",
     "text": [
      "Requirement already satisfied: imbalanced-learn in /Users/truongduchoa/opt/anaconda3/lib/python3.9/site-packages (0.11.0)\n",
      "Requirement already satisfied: scikit-learn>=1.0.2 in /Users/truongduchoa/opt/anaconda3/lib/python3.9/site-packages (from imbalanced-learn) (1.0.2)\n",
      "Requirement already satisfied: threadpoolctl>=2.0.0 in /Users/truongduchoa/opt/anaconda3/lib/python3.9/site-packages (from imbalanced-learn) (2.2.0)\n",
      "Requirement already satisfied: scipy>=1.5.0 in /Users/truongduchoa/opt/anaconda3/lib/python3.9/site-packages (from imbalanced-learn) (1.7.3)\n",
      "Requirement already satisfied: numpy>=1.17.3 in /Users/truongduchoa/opt/anaconda3/lib/python3.9/site-packages (from imbalanced-learn) (1.21.5)\n",
      "Requirement already satisfied: joblib>=1.1.1 in /Users/truongduchoa/opt/anaconda3/lib/python3.9/site-packages (from imbalanced-learn) (1.3.2)\n"
     ]
    }
   ],
   "source": [
    "!pip install imbalanced-learn\n",
    "from imblearn.over_sampling import SMOTE"
   ]
  },
  {
   "cell_type": "code",
   "execution_count": 127,
   "id": "5b2a82a9",
   "metadata": {},
   "outputs": [
    {
     "name": "stdout",
     "output_type": "stream",
     "text": [
      "<class 'pandas.core.frame.DataFrame'>\n",
      "Int64Index: 1092978 entries, 0 to 2260697\n",
      "Data columns (total 17 columns):\n",
      " #   Column                Non-Null Count    Dtype  \n",
      "---  ------                --------------    -----  \n",
      " 0   loan_amnt             1092978 non-null  float64\n",
      " 1   term                  1092978 non-null  int64  \n",
      " 2   int_rate              1092978 non-null  float64\n",
      " 3   installment           1092978 non-null  float64\n",
      " 4   sub_grade             1092978 non-null  object \n",
      " 5   purpose               1092978 non-null  int64  \n",
      " 6   dti                   1092978 non-null  float64\n",
      " 7   open_acc              1092978 non-null  float64\n",
      " 8   pub_rec               1092978 non-null  int64  \n",
      " 9   revol_bal             1092978 non-null  float64\n",
      " 10  revol_util            1092978 non-null  float64\n",
      " 11  total_acc             1092978 non-null  float64\n",
      " 12  mort_acc              1092978 non-null  float64\n",
      " 13  pub_rec_bankruptcies  1092978 non-null  int64  \n",
      " 14  Loan_Status           1092978 non-null  int64  \n",
      " 15  Ver_status            1092978 non-null  int64  \n",
      " 16  fico                  1092978 non-null  float64\n",
      "dtypes: float64(10), int64(6), object(1)\n",
      "memory usage: 150.1+ MB\n"
     ]
    }
   ],
   "source": [
    "df.info()"
   ]
  },
  {
   "cell_type": "code",
   "execution_count": 128,
   "id": "6ce201df",
   "metadata": {},
   "outputs": [
    {
     "data": {
      "text/plain": [
       "loan_amnt               0\n",
       "term                    0\n",
       "int_rate                0\n",
       "installment             0\n",
       "sub_grade               0\n",
       "purpose                 0\n",
       "dti                     0\n",
       "open_acc                0\n",
       "pub_rec                 0\n",
       "revol_bal               0\n",
       "revol_util              0\n",
       "total_acc               0\n",
       "mort_acc                0\n",
       "pub_rec_bankruptcies    0\n",
       "Loan_Status             0\n",
       "Ver_status              0\n",
       "fico                    0\n",
       "dtype: int64"
      ]
     },
     "execution_count": 128,
     "metadata": {},
     "output_type": "execute_result"
    }
   ],
   "source": [
    "df.isna().sum()"
   ]
  },
  {
   "cell_type": "code",
   "execution_count": 129,
   "id": "c9b02b40",
   "metadata": {},
   "outputs": [
    {
     "data": {
      "text/plain": [
       "<AxesSubplot:title={'center':'Pearson Correlation Matrix'}>"
      ]
     },
     "execution_count": 129,
     "metadata": {},
     "output_type": "execute_result"
    },
    {
     "data": {
      "image/png": "[encoded data removed]",
      "text/plain": [
       "<Figure size 864x864 with 2 Axes>"
      ]
     },
     "metadata": {
      "needs_background": "light"
     },
     "output_type": "display_data"
    }
   ],
   "source": [
    "plt.figure(figsize=(12,12))\n",
    "plt.title('Pearson Correlation Matrix',fontsize=25)\n",
    "sns.heatmap(df.corr(),linewidths=0.25,vmax=0.7,square=True,cmap=\"GnBu\",linecolor='w',\n",
    "            annot=True, annot_kws={\"size\":10}, cbar_kws={\"shrink\": .7})"
   ]
  },
  {
   "cell_type": "raw",
   "id": "8be4f427",
   "metadata": {},
   "source": [
    "từ correlation matrix có pub_rec và pub_rec_bankruptcies có corr cao (0.67) mà pub_rec là số tài khoản công khai có thông tin xấu về khách hàng, pub_rec_bankruptcies là số tài khoản công khai bị phá sản (có thể coi là 1 thông tin xấu) -> gộp 2 cột thành 1"
   ]
  },
  {
   "cell_type": "code",
   "execution_count": 130,
   "id": "64f2798c",
   "metadata": {},
   "outputs": [],
   "source": [
    "df['new_pub_rec']=df['pub_rec']+df['pub_rec_bankruptcies']"
   ]
  },
  {
   "cell_type": "code",
   "execution_count": 131,
   "id": "0425cf71",
   "metadata": {},
   "outputs": [],
   "source": [
    "df=df.drop(['pub_rec_bankruptcies','pub_rec'], axis=1)"
   ]
  },
  {
   "cell_type": "code",
   "execution_count": 132,
   "id": "716fc0d0",
   "metadata": {},
   "outputs": [
    {
     "data": {
      "text/plain": [
       "0    891431\n",
       "2    150535\n",
       "1     51012\n",
       "Name: new_pub_rec, dtype: int64"
      ]
     },
     "execution_count": 132,
     "metadata": {},
     "output_type": "execute_result"
    }
   ],
   "source": [
    "df['new_pub_rec'].value_counts()"
   ]
  },
  {
   "cell_type": "code",
   "execution_count": 133,
   "id": "0edaadc6",
   "metadata": {},
   "outputs": [],
   "source": [
    "def ChangNewPub(x):\n",
    "    if x==0:\n",
    "        return 0\n",
    "    else:\n",
    "        return 1\n",
    "df['new_pub_rec']=df['new_pub_rec'].apply(ChangNewPub)"
   ]
  },
  {
   "cell_type": "code",
   "execution_count": 134,
   "id": "af5ea7d7",
   "metadata": {},
   "outputs": [],
   "source": [
    "#có total_acc và open_acc đều nói về số tài khoản đang mở nên bỏ 1 cái\n",
    "#có installment và loan_amnt đều nói về khoản nợ -> bỏ cái nhỏ hơn (installment)\n",
    "df=df.drop(['total_acc','installment'], axis=1)"
   ]
  },
  {
   "cell_type": "code",
   "execution_count": 135,
   "id": "675b052c",
   "metadata": {
    "scrolled": true
   },
   "outputs": [
    {
     "data": {
      "text/plain": [
       "<AxesSubplot:title={'center':'Pearson Correlation Matrix'}>"
      ]
     },
     "execution_count": 135,
     "metadata": {},
     "output_type": "execute_result"
    },
    {
     "data": {
      "image/png": "[encoded data removed]",
      "text/plain": [
       "<Figure size 864x864 with 2 Axes>"
      ]
     },
     "metadata": {
      "needs_background": "light"
     },
     "output_type": "display_data"
    }
   ],
   "source": [
    "plt.figure(figsize=(12,12))\n",
    "plt.title('Pearson Correlation Matrix',fontsize=25)\n",
    "sns.heatmap(df.corr(),linewidths=0.25,vmax=0.7,square=True,cmap=\"GnBu\",linecolor='w',\n",
    "            annot=True, annot_kws={\"size\":10}, cbar_kws={\"shrink\": .7})"
   ]
  },
  {
   "attachments": {},
   "cell_type": "markdown",
   "id": "a3a15426",
   "metadata": {},
   "source": [
    "# Modeling"
   ]
  },
  {
   "cell_type": "code",
   "execution_count": 136,
   "id": "46dd1246",
   "metadata": {},
   "outputs": [],
   "source": [
    "input_fields=df.drop(columns=['Loan_Status','sub_grade']).columns.values"
   ]
  },
  {
   "cell_type": "code",
   "execution_count": 137,
   "id": "18d4851d",
   "metadata": {},
   "outputs": [
    {
     "data": {
      "text/plain": [
       "1    747930\n",
       "0    345048\n",
       "Name: Ver_status, dtype: int64"
      ]
     },
     "execution_count": 137,
     "metadata": {},
     "output_type": "execute_result"
    }
   ],
   "source": [
    "df['Ver_status'].value_counts()"
   ]
  },
  {
   "cell_type": "code",
   "execution_count": 138,
   "id": "7e239e03",
   "metadata": {},
   "outputs": [],
   "source": [
    "X=df[input_fields]\n",
    "Y=df['Loan_Status']"
   ]
  },
  {
   "cell_type": "code",
   "execution_count": 139,
   "id": "f7d5140f",
   "metadata": {},
   "outputs": [],
   "source": [
    "X_train, X_test, y_train, y_test = train_test_split(X, Y, test_size=0.3, random_state=42)"
   ]
  },
  {
   "attachments": {},
   "cell_type": "markdown",
   "id": "e800360a",
   "metadata": {},
   "source": [
    "# Model trước khi upsampling\n",
    "\n"
   ]
  },
  {
   "cell_type": "code",
   "execution_count": 140,
   "id": "60440094",
   "metadata": {},
   "outputs": [],
   "source": [
    "scaler=StandardScaler()\n",
    "X_train_scaled = scaler.fit_transform(X_train)\n",
    "X_test_scaled = scaler.transform(X_test)"
   ]
  },
  {
   "cell_type": "code",
   "execution_count": 141,
   "id": "ca29a2e9",
   "metadata": {},
   "outputs": [
    {
     "name": "stderr",
     "output_type": "stream",
     "text": [
      "/Users/truongduchoa/opt/anaconda3/lib/python3.9/site-packages/sklearn/linear_model/_logistic.py:814: ConvergenceWarning: lbfgs failed to converge (status=1):\n",
      "STOP: TOTAL NO. of ITERATIONS REACHED LIMIT.\n",
      "\n",
      "Increase the number of iterations (max_iter) or scale the data as shown in:\n",
      "    https://scikit-learn.org/stable/modules/preprocessing.html\n",
      "Please also refer to the documentation for alternative solver options:\n",
      "    https://scikit-learn.org/stable/modules/linear_model.html#logistic-regression\n",
      "  n_iter_i = _check_optimize_result(\n"
     ]
    },
    {
     "data": {
      "text/plain": [
       "array([[-1.68890921e-05, -2.05700229e-02, -7.32618976e-02,\n",
       "         2.30876838e-04, -3.99555264e-02, -1.14628370e-02,\n",
       "         2.12378677e-05, -8.86230624e-04,  1.77078343e-02,\n",
       "        -3.29938216e-03,  5.99124342e-03, -5.65147572e-04]])"
      ]
     },
     "execution_count": 141,
     "metadata": {},
     "output_type": "execute_result"
    }
   ],
   "source": [
    "model1= LogisticRegression()\n",
    "model1.fit(X_train, y_train)\n",
    "model1.coef_"
   ]
  },
  {
   "cell_type": "code",
   "execution_count": 142,
   "id": "9565f536",
   "metadata": {},
   "outputs": [
    {
     "data": {
      "image/png": "[encoded data removed]",
      "text/plain": [
       "<Figure size 432x288 with 1 Axes>"
      ]
     },
     "metadata": {
      "needs_background": "light"
     },
     "output_type": "display_data"
    },
    {
     "name": "stdout",
     "output_type": "stream",
     "text": [
      "Intersection Threshold: 0.7202892138653104\n"
     ]
    }
   ],
   "source": [
    "from sklearn.metrics import precision_recall_curve,confusion_matrix\n",
    "y_probs = model1.predict_proba(X_test)[:, 1]\n",
    "\n",
    "# Tính Precision và Recall cho từng giá trị ngưỡng quyết định\n",
    "Precision, Recal, thresholds = precision_recall_curve(y_test, y_probs)\n",
    "\n",
    "# Tìm ngưỡng quyết định mà Precision và Recall cắt nhau\n",
    "intersection_threshold = thresholds[np.argmax(Precision >= Recal)]\n",
    "\n",
    "# Vẽ đồ thị Precision và Recall\n",
    "plt.plot(thresholds, Precision[:-1], label='Precision')\n",
    "plt.plot(thresholds, Recal[:-1], label='Recal')\n",
    "plt.axvline(x=intersection_threshold, color='r', linestyle='--', label='Intersection Threshold')\n",
    "plt.xlabel('CutOff')\n",
    "plt.ylabel('Percentage')\n",
    "plt.legend()\n",
    "plt.show()\n",
    "\n",
    "print(\"Intersection Threshold:\", intersection_threshold)"
   ]
  },
  {
   "cell_type": "code",
   "execution_count": 143,
   "id": "31422eda",
   "metadata": {
    "scrolled": true
   },
   "outputs": [
    {
     "name": "stdout",
     "output_type": "stream",
     "text": [
      "Accuracy score: 0.8041013254283397\n",
      "Confusion matrix:\n",
      "[[  2869  61471]\n",
      " [  2763 260791]]\n",
      "AUC 0.5170538070069577\n"
     ]
    }
   ],
   "source": [
    "predictions = model1.predict(X_test)\n",
    "print('Accuracy score:', accuracy_score(y_test, predictions))\n",
    "print('Confusion matrix:')\n",
    "print(confusion_matrix(y_test, predictions))\n",
    "print('AUC', roc_auc_score(y_test, predictions))"
   ]
  },
  {
   "attachments": {},
   "cell_type": "markdown",
   "id": "67b669e5",
   "metadata": {},
   "source": [
    "# Model sau khi upsampling"
   ]
  },
  {
   "cell_type": "code",
   "execution_count": 144,
   "id": "136ff0a2",
   "metadata": {},
   "outputs": [
    {
     "name": "stdout",
     "output_type": "stream",
     "text": [
      "Requirement already satisfied: imbalanced-learn in /Users/truongduchoa/opt/anaconda3/lib/python3.9/site-packages (0.11.0)\n",
      "Requirement already satisfied: threadpoolctl>=2.0.0 in /Users/truongduchoa/opt/anaconda3/lib/python3.9/site-packages (from imbalanced-learn) (2.2.0)\n",
      "Requirement already satisfied: scipy>=1.5.0 in /Users/truongduchoa/opt/anaconda3/lib/python3.9/site-packages (from imbalanced-learn) (1.7.3)\n",
      "Requirement already satisfied: joblib>=1.1.1 in /Users/truongduchoa/opt/anaconda3/lib/python3.9/site-packages (from imbalanced-learn) (1.3.2)\n",
      "Requirement already satisfied: numpy>=1.17.3 in /Users/truongduchoa/opt/anaconda3/lib/python3.9/site-packages (from imbalanced-learn) (1.21.5)\n",
      "Requirement already satisfied: scikit-learn>=1.0.2 in /Users/truongduchoa/opt/anaconda3/lib/python3.9/site-packages (from imbalanced-learn) (1.0.2)\n"
     ]
    }
   ],
   "source": [
    "!pip install imbalanced-learn"
   ]
  },
  {
   "cell_type": "code",
   "execution_count": 145,
   "id": "8035397b",
   "metadata": {},
   "outputs": [],
   "source": [
    "from imblearn.over_sampling import SMOTE\n",
    "sm=SMOTE(random_state=42)\n",
    "X_train_resample, y_train_resample=sm.fit_resample(X_train, y_train)"
   ]
  },
  {
   "cell_type": "code",
   "execution_count": 146,
   "id": "7f6d6582",
   "metadata": {},
   "outputs": [
    {
     "name": "stderr",
     "output_type": "stream",
     "text": [
      "/Users/truongduchoa/opt/anaconda3/lib/python3.9/site-packages/sklearn/linear_model/_logistic.py:814: ConvergenceWarning: lbfgs failed to converge (status=1):\n",
      "STOP: TOTAL NO. of ITERATIONS REACHED LIMIT.\n",
      "\n",
      "Increase the number of iterations (max_iter) or scale the data as shown in:\n",
      "    https://scikit-learn.org/stable/modules/preprocessing.html\n",
      "Please also refer to the documentation for alternative solver options:\n",
      "    https://scikit-learn.org/stable/modules/linear_model.html#logistic-regression\n",
      "  n_iter_i = _check_optimize_result(\n"
     ]
    },
    {
     "data": {
      "text/plain": [
       "array([[-8.16142269e-06, -2.00086210e-02, -1.31610236e-01,\n",
       "         2.13034952e-02, -2.40680585e-02, -1.56157107e-02,\n",
       "         1.40080677e-05,  1.40362507e-04,  3.50047806e-02,\n",
       "         8.98282425e-03,  4.55334757e-03,  1.22044027e-02]])"
      ]
     },
     "execution_count": 146,
     "metadata": {},
     "output_type": "execute_result"
    }
   ],
   "source": [
    "model=LogisticRegression()\n",
    "model.fit(X_train_resample, y_train_resample)\n",
    "model.coef_"
   ]
  },
  {
   "cell_type": "code",
   "execution_count": 147,
   "id": "14922ea7",
   "metadata": {},
   "outputs": [
    {
     "name": "stdout",
     "output_type": "stream",
     "text": [
      "              precision    recall  f1-score   support\n",
      "\n",
      "           0       0.51      0.04      0.08     64340\n",
      "           1       0.81      0.99      0.89    263554\n",
      "\n",
      "    accuracy                           0.80    327894\n",
      "   macro avg       0.66      0.52      0.49    327894\n",
      "weighted avg       0.75      0.80      0.73    327894\n",
      "\n"
     ]
    }
   ],
   "source": [
    "print(classification_report(y_test, predictions))"
   ]
  },
  {
   "cell_type": "code",
   "execution_count": 148,
   "id": "519acf8c",
   "metadata": {},
   "outputs": [
    {
     "name": "stderr",
     "output_type": "stream",
     "text": [
      "/Users/truongduchoa/opt/anaconda3/lib/python3.9/site-packages/sklearn/linear_model/_logistic.py:814: ConvergenceWarning: lbfgs failed to converge (status=1):\n",
      "STOP: TOTAL NO. of ITERATIONS REACHED LIMIT.\n",
      "\n",
      "Increase the number of iterations (max_iter) or scale the data as shown in:\n",
      "    https://scikit-learn.org/stable/modules/preprocessing.html\n",
      "Please also refer to the documentation for alternative solver options:\n",
      "    https://scikit-learn.org/stable/modules/linear_model.html#logistic-regression\n",
      "  n_iter_i = _check_optimize_result(\n"
     ]
    },
    {
     "name": "stdout",
     "output_type": "stream",
     "text": [
      "Metrics with Optimal Threshold for AUC:\n",
      "optimal_threshold_auc 0.5214922590085059\n",
      "Accuracy: 0.6289014132616029\n",
      "AUC: 0.6955232135475602\n",
      "\n",
      "Metrics with Optimal Threshold for Accuracy:\n",
      "Accuracy: 0.8040067826797684\n",
      "AUC: 0.6955232135475602\n",
      "optimal_threshold_accuracy 0.1\n"
     ]
    },
    {
     "data": {
      "image/png": "[encoded data removed]",
      "text/plain": [
       "<Figure size 432x288 with 1 Axes>"
      ]
     },
     "metadata": {
      "needs_background": "light"
     },
     "output_type": "display_data"
    }
   ],
   "source": [
    "from sklearn.linear_model import LogisticRegression\n",
    "from sklearn.metrics import roc_auc_score, accuracy_score, roc_curve\n",
    "import matplotlib.pyplot as plt\n",
    "\n",
    "# Tạo mô hình Logistic Regression\n",
    "model = LogisticRegression(random_state=42)\n",
    "model.fit(X_train_resample, y_train_resample)\n",
    "\n",
    "# Dự đoán xác suất positive trên tập validation\n",
    "y_probs_test = model.predict_proba(X_test)[:, 1]\n",
    "\n",
    "# Tìm ngưỡng cắt tối ưu cho AUC\n",
    "fpr, tpr, thresholds = roc_curve(y_test, y_probs_test)\n",
    "optimal_threshold_auc = thresholds[np.argmax(tpr - fpr)]\n",
    "\n",
    "# Dự đoán với ngưỡng cắt tối ưu cho AUC\n",
    "y_pred_test_auc = (y_probs_test >= optimal_threshold_auc).astype(int)\n",
    "\n",
    "# Đánh giá mô hình trên tập validation với ngưỡng cắt tối ưu cho AUC\n",
    "accuracy_test_auc = accuracy_score(y_test, y_pred_test_auc)\n",
    "roc_auc_test = roc_auc_score(y_test, y_probs_test)\n",
    "\n",
    "print(\"Metrics with Optimal Threshold for AUC:\")\n",
    "print('optimal_threshold_auc',optimal_threshold_auc)\n",
    "print(\"Accuracy:\", accuracy_test_auc)\n",
    "print(\"AUC:\", roc_auc_test)\n",
    "\n",
    "# Tìm ngưỡng cắt tối ưu cho accuracy\n",
    "accuracy_thresholds = [0.1, 0.2, 0.3, 0.4, 0.5, 0.6, 0.7, 0.8, 0.9]\n",
    "best_accuracy = 0\n",
    "optimal_threshold_accuracy = 0\n",
    "\n",
    "for threshold in accuracy_thresholds:\n",
    "    y_pred_test_accuracy = (y_probs_test >= threshold).astype(int)\n",
    "    accuracy = accuracy_score(y_test, y_pred_test_accuracy)\n",
    "    \n",
    "    if accuracy > best_accuracy:\n",
    "        best_accuracy = accuracy\n",
    "        optimal_threshold_accuracy = threshold\n",
    "\n",
    "# Dự đoán với ngưỡng cắt tối ưu cho accuracy\n",
    "y_pred_test_accuracy = (y_probs_test >= optimal_threshold_accuracy).astype(int)\n",
    "\n",
    "# Đánh giá mô hình trên tập validation với ngưỡng cắt tối ưu cho accuracy\n",
    "accuracy_test_accuracy = accuracy_score(y_test, y_pred_test_accuracy)\n",
    "roc_auc_test_accuracy = roc_auc_score(y_test, y_probs_test)\n",
    "\n",
    "print(\"\\nMetrics with Optimal Threshold for Accuracy:\")\n",
    "print(\"Accuracy:\", accuracy_test_accuracy)\n",
    "print(\"AUC:\", roc_auc_test_accuracy)\n",
    "print('optimal_threshold_accuracy',optimal_threshold_accuracy)\n",
    "# Vẽ đồ thị ROC curve\n",
    "plt.plot(fpr, tpr, label='ROC curve (area = %0.2f)' % roc_auc_test)\n",
    "plt.plot([0, 1], [0, 1], 'k--')\n",
    "plt.xlabel('False Positive Rate (FPR)')\n",
    "plt.ylabel('True Positive Rate (TPR)')\n",
    "plt.title('Receiver Operating Characteristic (ROC) Curve')\n",
    "plt.legend(loc='lower right')\n",
    "plt.show()"
   ]
  },
  {
   "cell_type": "code",
   "execution_count": 149,
   "id": "89070eec",
   "metadata": {},
   "outputs": [
    {
     "data": {
      "image/png": "[encoded data removed]",
      "text/plain": [
       "<Figure size 432x288 with 1 Axes>"
      ]
     },
     "metadata": {
      "needs_background": "light"
     },
     "output_type": "display_data"
    },
    {
     "name": "stdout",
     "output_type": "stream",
     "text": [
      "Intersection Threshold: 0.37013876504378357\n"
     ]
    }
   ],
   "source": [
    "from sklearn.metrics import precision_recall_curve\n",
    "\n",
    "y_probs = model.predict_proba(X_test)[:, 1]\n",
    "\n",
    "# Tính Precision và Recall cho từng giá trị ngưỡng quyết định\n",
    "Precision, Recal, thresholds = precision_recall_curve(y_test, y_probs)\n",
    "\n",
    "# Tìm ngưỡng quyết định mà Precision và Recall cắt nhau\n",
    "intersection_threshold = thresholds[np.argmax(Precision >= Recal)]\n",
    "\n",
    "# Vẽ đồ thị Precision và Recall\n",
    "plt.plot(thresholds, Precision[:-1], label='Precision')\n",
    "plt.plot(thresholds, Recal[:-1], label='Recal')\n",
    "plt.axvline(x=intersection_threshold, color='r', linestyle='--', label='Intersection Threshold')\n",
    "plt.xlabel('CutOff')\n",
    "plt.ylabel('Percentage')\n",
    "plt.legend()\n",
    "plt.show()\n",
    "\n",
    "print(\"Intersection Threshold:\", intersection_threshold)"
   ]
  },
  {
   "attachments": {},
   "cell_type": "markdown",
   "id": "c4372e9d",
   "metadata": {},
   "source": [
    "# Auc cải thiện phân loại đúng negative, positive"
   ]
  },
  {
   "cell_type": "code",
   "execution_count": 150,
   "id": "3e537c7d",
   "metadata": {
    "scrolled": false
   },
   "outputs": [
    {
     "name": "stderr",
     "output_type": "stream",
     "text": [
      "/Users/truongduchoa/opt/anaconda3/lib/python3.9/site-packages/sklearn/linear_model/_logistic.py:814: ConvergenceWarning: lbfgs failed to converge (status=1):\n",
      "STOP: TOTAL NO. of ITERATIONS REACHED LIMIT.\n",
      "\n",
      "Increase the number of iterations (max_iter) or scale the data as shown in:\n",
      "    https://scikit-learn.org/stable/modules/preprocessing.html\n",
      "Please also refer to the documentation for alternative solver options:\n",
      "    https://scikit-learn.org/stable/modules/linear_model.html#logistic-regression\n",
      "  n_iter_i = _check_optimize_result(\n"
     ]
    },
    {
     "name": "stdout",
     "output_type": "stream",
     "text": [
      "Threshold: 0.10\n",
      "AUC: 0.6955\n",
      "Accuracy: 0.8040\n",
      "Precision: 0.8043\n",
      "Recall: 0.9993\n",
      "---\n",
      "Threshold: 0.15\n",
      "AUC: 0.6955\n",
      "Accuracy: 0.8038\n",
      "Precision: 0.8082\n",
      "Recall: 0.9910\n",
      "---\n",
      "Threshold: 0.20\n",
      "AUC: 0.6955\n",
      "Accuracy: 0.8006\n",
      "Precision: 0.8147\n",
      "Recall: 0.9732\n",
      "---\n",
      "Threshold: 0.25\n",
      "AUC: 0.6955\n",
      "Accuracy: 0.7939\n",
      "Precision: 0.8228\n",
      "Recall: 0.9476\n",
      "---\n",
      "Threshold: 0.30\n",
      "AUC: 0.6955\n",
      "Accuracy: 0.7818\n",
      "Precision: 0.8319\n",
      "Recall: 0.9131\n",
      "---\n",
      "Threshold: 0.35\n",
      "AUC: 0.6955\n",
      "Accuracy: 0.7628\n",
      "Precision: 0.8418\n",
      "Recall: 0.8679\n",
      "---\n",
      "Threshold: 0.40\n",
      "AUC: 0.6955\n",
      "Accuracy: 0.7349\n",
      "Precision: 0.8528\n",
      "Recall: 0.8100\n",
      "---\n",
      "Threshold: 0.45\n",
      "AUC: 0.6955\n",
      "Accuracy: 0.6984\n",
      "Precision: 0.8643\n",
      "Recall: 0.7412\n",
      "---\n",
      "Threshold: 0.50\n",
      "AUC: 0.6955\n",
      "Accuracy: 0.6523\n",
      "Precision: 0.8765\n",
      "Recall: 0.6604\n",
      "---\n",
      "Threshold: 0.55\n",
      "AUC: 0.6955\n",
      "Accuracy: 0.5944\n",
      "Precision: 0.8900\n",
      "Recall: 0.5652\n",
      "---\n",
      "Threshold: 0.60\n",
      "AUC: 0.6955\n",
      "Accuracy: 0.5272\n",
      "Precision: 0.9054\n",
      "Recall: 0.4598\n",
      "---\n",
      "Threshold: 0.65\n",
      "AUC: 0.6955\n",
      "Accuracy: 0.4549\n",
      "Precision: 0.9205\n",
      "Recall: 0.3522\n",
      "---\n",
      "Threshold: 0.70\n",
      "AUC: 0.6955\n",
      "Accuracy: 0.3830\n",
      "Precision: 0.9363\n",
      "Recall: 0.2493\n",
      "---\n",
      "Threshold: 0.75\n",
      "AUC: 0.6955\n",
      "Accuracy: 0.3134\n",
      "Precision: 0.9504\n",
      "Recall: 0.1538\n",
      "---\n",
      "Threshold: 0.80\n",
      "AUC: 0.6955\n",
      "Accuracy: 0.2529\n",
      "Precision: 0.9663\n",
      "Recall: 0.0731\n",
      "---\n",
      "Threshold: 0.85\n",
      "AUC: 0.6955\n",
      "Accuracy: 0.2115\n",
      "Precision: 0.9755\n",
      "Recall: 0.0195\n",
      "---\n",
      "Threshold: 0.90\n",
      "AUC: 0.6955\n",
      "Accuracy: 0.1967\n",
      "Precision: 0.9825\n",
      "Recall: 0.0006\n",
      "---\n"
     ]
    },
    {
     "name": "stderr",
     "output_type": "stream",
     "text": [
      "/Users/truongduchoa/opt/anaconda3/lib/python3.9/site-packages/sklearn/metrics/_classification.py:1318: UndefinedMetricWarning: Precision is ill-defined and being set to 0.0 due to no predicted samples. Use `zero_division` parameter to control this behavior.\n",
      "  _warn_prf(average, modifier, msg_start, len(result))\n"
     ]
    },
    {
     "name": "stdout",
     "output_type": "stream",
     "text": [
      "Threshold: 0.95\n",
      "AUC: 0.6955\n",
      "Accuracy: 0.1962\n",
      "Precision: 0.0000\n",
      "Recall: 0.0000\n",
      "---\n"
     ]
    },
    {
     "name": "stderr",
     "output_type": "stream",
     "text": [
      "/Users/truongduchoa/opt/anaconda3/lib/python3.9/site-packages/sklearn/metrics/_classification.py:1318: UndefinedMetricWarning: Precision is ill-defined and being set to 0.0 due to no predicted samples. Use `zero_division` parameter to control this behavior.\n",
      "  _warn_prf(average, modifier, msg_start, len(result))\n"
     ]
    },
    {
     "name": "stdout",
     "output_type": "stream",
     "text": [
      "Threshold: 1.00\n",
      "AUC: 0.6955\n",
      "Accuracy: 0.1962\n",
      "Precision: 0.0000\n",
      "Recall: 0.0000\n",
      "---\n",
      "Threshold: 1.05\n",
      "AUC: 0.6955\n",
      "Accuracy: 0.1962\n",
      "Precision: 0.0000\n",
      "Recall: 0.0000\n",
      "---\n"
     ]
    },
    {
     "name": "stderr",
     "output_type": "stream",
     "text": [
      "/Users/truongduchoa/opt/anaconda3/lib/python3.9/site-packages/sklearn/metrics/_classification.py:1318: UndefinedMetricWarning: Precision is ill-defined and being set to 0.0 due to no predicted samples. Use `zero_division` parameter to control this behavior.\n",
      "  _warn_prf(average, modifier, msg_start, len(result))\n"
     ]
    }
   ],
   "source": [
    "from sklearn.metrics import roc_auc_score, accuracy_score, precision_score, recall_score\n",
    "from sklearn.model_selection import train_test_split\n",
    "from sklearn.linear_model import LogisticRegression\n",
    "import numpy as np\n",
    "\n",
    "model.fit(X_train_resample, y_train_resample)\n",
    "\n",
    "# Make predictions on the test set\n",
    "y_pred_proba = model.predict_proba(X_test)[:, 1]  # Probability of the positive class\n",
    "\n",
    "# Iterate through thresholds from 0.1 to 1\n",
    "for threshold in np.arange(0.1, 1.1, 0.05):\n",
    "    # Convert probabilities to binary predictions based on the threshold\n",
    "    y_pred_binary = np.where(y_pred_proba >= threshold, 1, 0)\n",
    "\n",
    "    # Calculate metrics at the specified threshold\n",
    "    auc_score = roc_auc_score(y_test, y_pred_proba)\n",
    "    accuracy = accuracy_score(y_test, y_pred_binary)\n",
    "    precision = precision_score(y_test, y_pred_binary)\n",
    "    recall = recall_score(y_test, y_pred_binary)\n",
    "\n",
    "    print(f'Threshold: {threshold:.2f}')\n",
    "    print(f'AUC: {auc_score:.4f}')\n",
    "    print(f'Accuracy: {accuracy:.4f}')\n",
    "    print(f'Precision: {precision:.4f}')\n",
    "    print(f'Recall: {recall:.4f}')\n",
    "    print('---')"
   ]
  },
  {
   "cell_type": "code",
   "execution_count": 151,
   "id": "e687202b",
   "metadata": {},
   "outputs": [
    {
     "data": {
      "image/png": "[encoded data removed]",
      "text/plain": [
       "<Figure size 432x288 with 1 Axes>"
      ]
     },
     "metadata": {
      "needs_background": "light"
     },
     "output_type": "display_data"
    },
    {
     "name": "stdout",
     "output_type": "stream",
     "text": [
      "Intersection Threshold: 0.37013876504378357\n"
     ]
    }
   ],
   "source": [
    "from sklearn.metrics import precision_recall_curve\n",
    "\n",
    "y_probs = model.predict_proba(X_test)[:, 1]\n",
    "\n",
    "# Tính Precision và Recall cho từng giá trị ngưỡng quyết định\n",
    "Precision, Recal, thresholds = precision_recall_curve(y_test, y_probs)\n",
    "\n",
    "# Tìm ngưỡng quyết định mà Precision và Recall cắt nhau\n",
    "intersection_threshold = thresholds[np.argmax(Precision >= Recal)]\n",
    "\n",
    "# Vẽ đồ thị Precision và Recall\n",
    "plt.plot(thresholds, Precision[:-1], label='Precision')\n",
    "plt.plot(thresholds, Recal[:-1], label='Recal')\n",
    "plt.axvline(x=intersection_threshold, color='r', linestyle='--', label='Intersection Threshold')\n",
    "plt.xlabel('CutOff')\n",
    "plt.ylabel('Percentage')\n",
    "plt.legend()\n",
    "plt.show()\n",
    "\n",
    "print(\"Intersection Threshold:\", intersection_threshold)"
   ]
  },
  {
   "cell_type": "code",
   "execution_count": 152,
   "id": "db10cc92",
   "metadata": {},
   "outputs": [
    {
     "name": "stdout",
     "output_type": "stream",
     "text": [
      "Threshold: 0.37\n",
      "AUC: 0.6955\n",
      "Accuracy: 0.7526\n",
      "[[ 23783  40557]\n",
      " [ 40557 222997]]\n"
     ]
    },
    {
     "data": {
      "image/png": "[encoded data removed]",
      "text/plain": [
       "<Figure size 720x432 with 1 Axes>"
      ]
     },
     "metadata": {
      "needs_background": "light"
     },
     "output_type": "display_data"
    }
   ],
   "source": [
    "# Thử với threshols đã tìm được ở trên\n",
    "threshold = 0.37013876504378357\n",
    "y_pred_binary = np.where(y_pred_proba >= threshold, 1, 0)\n",
    "auc_score = roc_auc_score(y_test, y_pred_proba)\n",
    "accuracy = accuracy_score(y_test, y_pred_binary)\n",
    "print(f'Threshold: {threshold:.2f}')\n",
    "print(f'AUC: {auc_score:.4f}')\n",
    "print(f'Accuracy: {accuracy:.4f}')\n",
    "print(confusion_matrix(y_test, y_pred_binary))\n",
    "\n",
    "thresholds = np.arange(0.1, 1.1, 0.1)\n",
    "auc_scores = []\n",
    "accuracy_scores = []\n",
    "\n",
    "for threshold in thresholds:\n",
    "    y_pred_binary = np.where(y_pred_proba >= threshold, 1, 0)\n",
    "    auc_scores.append(roc_auc_score(y_test, y_pred_proba))\n",
    "    accuracy_scores.append(accuracy_score(y_test, y_pred_binary))\n",
    "\n",
    "plt.figure(figsize=(10, 6))\n",
    "\n",
    "plt.plot(thresholds, auc_scores, label='AUC')\n",
    "plt.plot(thresholds, accuracy_scores, label='Accuracy')\n",
    "\n",
    "plt.xlabel('Threshold')\n",
    "plt.ylabel('Score')\n",
    "plt.title('AUC and Accuracy across Thresholds')\n",
    "plt.legend()\n",
    "plt.grid(True)\n",
    "plt.show()"
   ]
  },
  {
   "cell_type": "code",
   "execution_count": 153,
   "id": "eef17666",
   "metadata": {},
   "outputs": [
    {
     "name": "stdout",
     "output_type": "stream",
     "text": [
      "<class 'pandas.core.frame.DataFrame'>\n",
      "Int64Index: 765084 entries, 20235 to 164053\n",
      "Data columns (total 12 columns):\n",
      " #   Column       Non-Null Count   Dtype  \n",
      "---  ------       --------------   -----  \n",
      " 0   loan_amnt    765084 non-null  float64\n",
      " 1   term         765084 non-null  int64  \n",
      " 2   int_rate     765084 non-null  float64\n",
      " 3   purpose      765084 non-null  int64  \n",
      " 4   dti          765084 non-null  float64\n",
      " 5   open_acc     765084 non-null  float64\n",
      " 6   revol_bal    765084 non-null  float64\n",
      " 7   revol_util   765084 non-null  float64\n",
      " 8   mort_acc     765084 non-null  float64\n",
      " 9   Ver_status   765084 non-null  int64  \n",
      " 10  fico         765084 non-null  float64\n",
      " 11  new_pub_rec  765084 non-null  int64  \n",
      "dtypes: float64(8), int64(4)\n",
      "memory usage: 75.9 MB\n"
     ]
    }
   ],
   "source": [
    "X_train.info()"
   ]
  },
  {
   "cell_type": "code",
   "execution_count": null,
   "id": "61530080",
   "metadata": {},
   "outputs": [],
   "source": []
  }
 ],
 "metadata": {
  "kernelspec": {
   "display_name": "Python 3 (ipykernel)",
   "language": "python",
   "name": "python3"
  },
  "language_info": {
   "codemirror_mode": {
    "name": "ipython",
    "version": 3
   },
   "file_extension": ".py",
   "mimetype": "text/x-python",
   "name": "python",
   "nbconvert_exporter": "python",
   "pygments_lexer": "ipython3",
   "version": "3.9.12"
  },
  "vscode": {
   "interpreter": {
    "hash": "aee8b7b246df8f9039afb4144a1f6fd8d2ca17a180786b69acc140d282b71a49"
   }
  }
 },
 "nbformat": 4,
 "nbformat_minor": 5
}
